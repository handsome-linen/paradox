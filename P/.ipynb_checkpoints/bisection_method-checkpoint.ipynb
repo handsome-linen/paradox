{
 "cells": [
  {
   "cell_type": "markdown",
   "metadata": {},
   "source": [
    "# Bisection Method"
   ]
  },
  {
   "cell_type": "markdown",
   "metadata": {},
   "source": [
    "### Definition"
   ]
  },
  {
   "cell_type": "markdown",
   "metadata": {},
   "source": [
    "The **bisection method** is a root-finding numerical technique that repeatedly bisects an interval in half."
   ]
  },
  {
   "cell_type": "markdown",
   "metadata": {},
   "source": [
    "### Method"
   ]
  },
  {
   "cell_type": "markdown",
   "metadata": {},
   "source": [
    "An interval $[a_{n+1} \\text{, } b_{n+1}]$ containing a root of $f(x) = 0$ is constracted from $[a_n \\text{, } b_n]$ by letting $p_n = a_n + 0.5(b_n - a_n)$ and updating as follows:"
   ]
  },
  {
   "cell_type": "markdown",
   "metadata": {},
   "source": [
    "$a_{n+1} = a_n \\,\\,\\, \\& \\,\\,\\, b_{n+1} = p_n$ if $f(a_n)f(p_n) < 0$ or <br>\n",
    "$a_{n+1} = p_n \\,\\,\\, \\& \\,\\,\\, b_{n+1} = b_n$ if $f(a_n)f(p_n) > 0$."
   ]
  },
  {
   "cell_type": "markdown",
   "metadata": {},
   "source": [
    "### Stopping Criteria"
   ]
  },
  {
   "cell_type": "markdown",
   "metadata": {},
   "source": [
    "1. The method stops if $f(p_n) = 0$ for some $n$\n",
    "2. The method stops if: <br>\n",
    "    a. $|b_{n+1} - a_{n+1}| < \\text{TOL}$ (user defined tolerance) <br>\n",
    "    b. $|f(p_n)| < \\text{TOL}$ <br>\n",
    "    c. $|p_{n+1} - p_n| < \\text{TOL}$ (most general one) <br>\n",
    "3. The method stops if $n > N$ (user defined # of iterations)"
   ]
  },
  {
   "cell_type": "markdown",
   "metadata": {},
   "source": [
    "### Error Analysis"
   ]
  },
  {
   "cell_type": "markdown",
   "metadata": {},
   "source": [
    "$|r - p_0| \\leq 0.5(b - a)$ <br>\n",
    "$|r - p_1| \\leq 0.25(b - a) = 0.5^2(b - a)$ <br>\n",
    "&emsp; &emsp; &emsp; $\\vdots$ <br>\n",
    "$|r - p_n| \\leq 0.5^{n+1}(b - a)$ <br>"
   ]
  },
  {
   "cell_type": "markdown",
   "metadata": {},
   "source": [
    "### Theorem on Bisection Method"
   ]
  },
  {
   "cell_type": "markdown",
   "metadata": {},
   "source": [
    "If $[a_0 \\text{, } b_0]$, $[a_1 \\text{, } b_1]$, $ \\cdots $, $[a_n \\text{, } b_n]$, $ \\cdots $ denote the intervals in the bisection method, then $ \\lim_{n \\to \\infty} a_n $ and $ \\lim_{n \\to \\infty} b_n $ exists, are equal, and represent a zero of $f$. If $ r = \\lim_{n \\to \\infty} p_n $ and $ p_n = 0.5(a_n + b_n) $, then $ |r - p_n| \\leq 0.5^{n+1}(b_0 - a_0) $."
   ]
  },
  {
   "cell_type": "markdown",
   "metadata": {},
   "source": [
    "### Pseudocode"
   ]
  },
  {
   "cell_type": "markdown",
   "metadata": {},
   "source": [
    "**input** $a, b, f, TOL, N$ <br>\n",
    "&emsp; &emsp; $p \\leftarrow a + 0.5(b - a)$ <br>\n",
    "&emsp; &emsp; if $f(a) * f(p) < 0$ then <br>\n",
    "&emsp; &emsp; &emsp; $b = p$ <br>\n",
    "&emsp; &emsp; end <br>\n",
    "&emsp; &emsp; if $f(a) * f(p) > 0$ then <br>\n",
    "&emsp; &emsp; &emsp; $a = p$ <br>\n",
    "&emsp; &emsp; end <br>\n",
    "&emsp; &emsp; if $p == 0$ OR $|b - a| < TOL$ OR $k < N$ then <br>\n",
    "&emsp; &emsp; &emsp; $r = p$ <br>\n",
    "&emsp; &emsp; &emsp; exit <br>\n",
    "&emsp; &emsp; end <br>"
   ]
  },
  {
   "cell_type": "markdown",
   "metadata": {},
   "source": [
    "### Exercise"
   ]
  },
  {
   "cell_type": "markdown",
   "metadata": {},
   "source": [
    "Use the bisection method to find the positive root of $f(x) = x^2 - 1 = 0$. Use $[a_0, b_0] = [0.5, \\pi]$."
   ]
  },
  {
   "cell_type": "code",
   "execution_count": 1,
   "metadata": {},
   "outputs": [],
   "source": [
    "import math\n",
    "import sympy as sy\n",
    "from sympy import symbols"
   ]
  },
  {
   "cell_type": "code",
   "execution_count": 2,
   "metadata": {},
   "outputs": [],
   "source": [
    "def bm(a, b, tol, N, f):\n",
    "    for i in range(1,N):\n",
    "        p = (a + 0.5*(b - a))\n",
    "        fa = f.subs(x, a)\n",
    "        fp = f.subs(x, p)\n",
    "        if fa*fp < 0:\n",
    "            b = p\n",
    "        if fa*fp > 0:\n",
    "            a = p\n",
    "        if fa*fp == 0 or abs(b-a) < tol:\n",
    "            r = p\n",
    "            break\n",
    "    return r"
   ]
  },
  {
   "cell_type": "code",
   "execution_count": 4,
   "metadata": {},
   "outputs": [
    {
     "name": "stdout",
     "output_type": "stream",
     "text": [
      "The positive root of f(x) = x^2 - 1 is 1.000000\n"
     ]
    }
   ],
   "source": [
    "a = 0.5\n",
    "b = math.pi\n",
    "tol = 1e-8\n",
    "N = 100\n",
    "x = sy.symbols('x')\n",
    "f = x**2 - 1\n",
    "r = bm(a, b, tol, N, f)\n",
    "print('The positive root of f(x) = x^2 - 1 is %f' % r)"
   ]
  },
  {
   "cell_type": "code",
   "execution_count": null,
   "metadata": {},
   "outputs": [],
   "source": [
    "# https://stackoverflow.com/questions/47061626/how-to-get-tab-space-in-markdown-cell-of-jupyter-notebook"
   ]
  },
  {
   "cell_type": "markdown",
   "metadata": {},
   "source": [
    "# Chapter 3 Section1 Computer Problems 1.a"
   ]
  },
  {
   "cell_type": "markdown",
   "metadata": {},
   "source": [
    "Write and test a subprogram or procedure to implement the bisection algorithm. Test the program on these functions and intervals:"
   ]
  },
  {
   "cell_type": "markdown",
   "metadata": {},
   "source": [
    "\\begin{equation}\n",
    "    x^{-1} - \\tan{x} \\,\\,\\, \\text{on} \\,\\,\\, [0.1, \\pi/2]\n",
    "\\end{equation}"
   ]
  },
  {
   "cell_type": "code",
   "execution_count": 5,
   "metadata": {},
   "outputs": [
    {
     "name": "stdout",
     "output_type": "stream",
     "text": [
      "The positive root of f(x) = x^-1 - tan x is 0.860334\n"
     ]
    }
   ],
   "source": [
    "a = 0.1\n",
    "b = 0.5*math.pi\n",
    "tol = 1e-8\n",
    "N = 100\n",
    "x = sy.symbols('x')\n",
    "f = x**-1 - sy.tan(x)\n",
    "r = bm(a, b, tol, N, f)\n",
    "print('The positive root of f(x) = x^-1 - tan x is %f' % r)"
   ]
  },
  {
   "cell_type": "code",
   "execution_count": null,
   "metadata": {},
   "outputs": [],
   "source": []
  }
 ],
 "metadata": {
  "kernelspec": {
   "display_name": "Python 3",
   "language": "python",
   "name": "python3"
  },
  "language_info": {
   "codemirror_mode": {
    "name": "ipython",
    "version": 3
   },
   "file_extension": ".py",
   "mimetype": "text/x-python",
   "name": "python",
   "nbconvert_exporter": "python",
   "pygments_lexer": "ipython3",
   "version": "3.7.3"
  }
 },
 "nbformat": 4,
 "nbformat_minor": 2
}
