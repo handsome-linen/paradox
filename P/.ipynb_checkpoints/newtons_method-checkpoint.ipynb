{
 "cells": [
  {
   "cell_type": "markdown",
   "metadata": {},
   "source": [
    "# Newton's Method"
   ]
  },
  {
   "cell_type": "markdown",
   "metadata": {},
   "source": [
    "### Derivation"
   ]
  },
  {
   "cell_type": "markdown",
   "metadata": {},
   "source": [
    "Let $r$ be a zero of $f$ and let $x_n$ be an approximation to $r$. <br>\n",
    "By Taylor's Theorem, <br>\n",
    "$f(x) + f'(x_n)(r - x_n) + \\underbrace{\\mathcal{O} \\left( (r - x_n)^2 \\right)}_\\text{hot}$. <br>\n",
    "$h = r - x_n \\quad \\Rightarrow \\quad r = h + x_n$ <br>\n",
    "If $h$ is small ($x_n$ is near $r$), then it is reasonable to ignore the $\\mathcal{O}(h^2)$ term. <br>\n",
    "$f(r) = f(x_n) + hf'(x_n)$ <br>\n",
    "Solve the remaining equation for $h$. <br>\n",
    "Since $f(r) = 0$, then $h \\cong - \\frac{f(x_n)}{f'(x_n)} \\Rightarrow  r \\cong x_n - \\frac{f(x_n)}{f'(x_n)}$."
   ]
  },
  {
   "cell_type": "markdown",
   "metadata": {},
   "source": [
    "### Method"
   ]
  },
  {
   "cell_type": "markdown",
   "metadata": {},
   "source": [
    "If $x_0$ is an initial approximation to $r$, then $x_{n+1}$ is computed from $x_n$ by $x_{n+1} = x_n - \\frac{f(x_n)}{f'(x_n)} \\quad (n \\geq 0)$."
   ]
  },
  {
   "cell_type": "markdown",
   "metadata": {},
   "source": [
    "### Error Analysis"
   ]
  },
  {
   "cell_type": "markdown",
   "metadata": {},
   "source": [
    "If $\\epsilon_n = x_n - r$, then $\\epsilon_{n+1} = x_{n+1} - r = x_n - \\frac{f(x_n)}{f'(x_n)} - r$ <br>\n",
    "$\\Rightarrow \\epsilon_{n+1} = \\epsilon_n - \\frac{f(x_n)}{f'(x_n)} = \\frac{\\epsilon_n f'(x_n) - f(x_n)}{f'(x_n)}$ <br>\n",
    "By Taylor's Theorem, <br> \n",
    "$f(r) = f(x_n - \\epsilon_n) = f(x_n) - \\epsilon_n f'(x_n) + \\frac{1}{2} \\epsilon_n^2 f''(\\xi_n)$ <br>\n",
    "where $ \\xi_n \\in (x_n, r)$. <br>\n",
    "Since $f(r) = 0$, $\\epsilon_n f'(x_n) - f(x_n) = \\frac{1}{2} \\epsilon_n^2 f''(\\xi_n)$. <br>\n",
    "$\\epsilon_{n+1} = \\frac{\\frac{1}{2} \\epsilon_n^2 f''(\\xi_n)}{f'(x_n)} = \\frac{1}{2} \\underbrace{\\frac{f''(\\xi_n)}{ f'(x_n)}}_{C} \\epsilon_n^2 = \\frac{1}{2} C \\epsilon_n^2 \\quad \\Rightarrow \\quad$ quadratic convergence"
   ]
  },
  {
   "cell_type": "markdown",
   "metadata": {},
   "source": [
    "### Theorem on Newton's Method"
   ]
  },
  {
   "cell_type": "markdown",
   "metadata": {},
   "source": [
    "Let $f''$ be continuous and let $r$ be a simple zero of $f$. Then there is a neighborhood of $r$ and constant $C$ such that if Newton's method is started in that neighborhood, all the successive points become steadily closer to $r$ and satisfy $|x_{n+1} - r| \\leq C (x_n - r)^2 \\quad (n \\geq 0)$."
   ]
  },
  {
   "cell_type": "markdown",
   "metadata": {},
   "source": [
    "### Pseudocode"
   ]
  },
  {
   "cell_type": "markdown",
   "metadata": {},
   "source": [
    "**input** $a, b, f, TOL, N$ <br>\n",
    "&emsp; &emsp; $p \\leftarrow a + 0.5(b - a)$ <br>\n",
    "&emsp; &emsp; if $f(a) * f(p) < 0$ then <br>\n",
    "&emsp; &emsp; &emsp; $b = p$ <br>\n",
    "&emsp; &emsp; end <br>\n",
    "&emsp; &emsp; if $f(a) * f(p) > 0$ then <br>\n",
    "&emsp; &emsp; &emsp; $a = p$ <br>\n",
    "&emsp; &emsp; end <br>\n",
    "&emsp; &emsp; if $p == 0$ OR $|b - a| < TOL$ OR $k < N$ then <br>\n",
    "&emsp; &emsp; &emsp; $r = p$ <br>\n",
    "&emsp; &emsp; &emsp; exit <br>\n",
    "&emsp; &emsp; end <br>"
   ]
  },
  {
   "cell_type": "markdown",
   "metadata": {},
   "source": [
    "### Exercise"
   ]
  },
  {
   "cell_type": "markdown",
   "metadata": {},
   "source": [
    "Use Newton's method to find the negative zero of the function $f(x) = e^x - 1.5 - \\tan^{-1} x$."
   ]
  },
  {
   "cell_type": "code",
   "execution_count": 5,
   "metadata": {},
   "outputs": [],
   "source": [
    "import math\n",
    "import sympy as sy\n",
    "from sympy import symbols"
   ]
  },
  {
   "cell_type": "code",
   "execution_count": 6,
   "metadata": {},
   "outputs": [],
   "source": [
    "def nm(x0, f, fp, tol, ep, N, sol):\n",
    "    for i in range(1, N):\n",
    "        y = f.subs(x, x0)\n",
    "        yp = fp.subs(x, x0)\n",
    "        if abs(yp) < ep:\n",
    "            break\n",
    "        x1 = x0 - y/yp\n",
    "        if abs(x1 - x0) <= tol:\n",
    "            sol = True\n",
    "            break\n",
    "        x0 = x1\n",
    "    return x1, sol"
   ]
  },
  {
   "cell_type": "code",
   "execution_count": null,
   "metadata": {},
   "outputs": [],
   "source": [
    "x0 = -7\n",
    "x = sy.symbols('x')\n",
    "f = sy.exp(x) - 1.5 - sy.tan(x)**-1\n",
    "fp = f.diff(x)\n",
    "tol = 1e-8\n",
    "ep = 1e-14\n",
    "N = 20\n",
    "sol = False\n",
    "x1, sol = nm(x0, f, fp, tol, ep, N, sol)\n",
    "if sol:\n",
    "    print('Solution: %f' % x1)\n",
    "else:\n",
    "    print('Did not converge')"
   ]
  },
  {
   "cell_type": "code",
   "execution_count": null,
   "metadata": {},
   "outputs": [],
   "source": [
    "# https://towardsdatascience.com/write-markdown-latex-in-the-jupyter-notebook-10985edb91fd"
   ]
  },
  {
   "cell_type": "code",
   "execution_count": null,
   "metadata": {},
   "outputs": [],
   "source": [
    "# https://www.math.ubc.ca/~pwalls/math-python/"
   ]
  },
  {
   "cell_type": "markdown",
   "metadata": {},
   "source": [
    "# Chapter 3 Section2 Computer Problems 1"
   ]
  },
  {
   "cell_type": "markdown",
   "metadata": {},
   "source": [
    "Write a computer program to solve the equation $x = \\tan(x)$ by means of Newton's method. Find the roots nearest $4.5$ and $7.7$."
   ]
  },
  {
   "cell_type": "code",
   "execution_count": null,
   "metadata": {},
   "outputs": [],
   "source": [
    "x0 = -7\n",
    "x = sy.symbols('x')\n",
    "f = sy.tan(x)\n",
    "fp = f.diff(x)\n",
    "tol = 1e-8\n",
    "ep = 1e-14\n",
    "N = 20\n",
    "sol = False\n",
    "x1 = nm(x0, f, fp, tol, ep, N, sol)\n",
    "if sol:\n",
    "    print('Solution: %f' % x1)\n",
    "else:\n",
    "    print('Did not converge')"
   ]
  },
  {
   "cell_type": "code",
   "execution_count": 4,
   "metadata": {},
   "outputs": [
    {
     "name": "stdout",
     "output_type": "stream",
     "text": [
      "Solution: 1.414214\n"
     ]
    }
   ],
   "source": [
    "import math\n",
    "import sympy as sy\n",
    "from sympy import symbols\n",
    "import numpy as np\n",
    "\n",
    "x0 = 1\n",
    "x = sy.symbols('x')\n",
    "f = x**2 - 2\n",
    "# f = sy.tan(x) - x\n",
    "# fp = 2*x\n",
    "fp = f.diff(x)\n",
    "tol = 1e-7\n",
    "ep = 1e-14\n",
    "N = 20\n",
    "sol = False\n",
    "\n",
    "for i in range(1, N):\n",
    "    y = f.subs(x, x0)\n",
    "    yp = fp.subs(x, x0)\n",
    "    \n",
    "    if abs(yp) < ep:\n",
    "        break\n",
    "    \n",
    "    x1 = x0 - y/yp\n",
    "    \n",
    "    if abs(x1 - x0) <= tol:\n",
    "        sol = True\n",
    "        break\n",
    "    \n",
    "    x0 = x1\n",
    "\n",
    "if sol:\n",
    "    print('Solution: %f' % x1)\n",
    "else:\n",
    "    print('Did not converge')"
   ]
  }
 ],
 "metadata": {
  "kernelspec": {
   "display_name": "Python 3",
   "language": "python",
   "name": "python3"
  },
  "language_info": {
   "codemirror_mode": {
    "name": "ipython",
    "version": 3
   },
   "file_extension": ".py",
   "mimetype": "text/x-python",
   "name": "python",
   "nbconvert_exporter": "python",
   "pygments_lexer": "ipython3",
   "version": "3.7.3"
  }
 },
 "nbformat": 4,
 "nbformat_minor": 2
}
