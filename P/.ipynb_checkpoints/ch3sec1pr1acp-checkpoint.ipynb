{
 "cells": [
  {
   "cell_type": "markdown",
   "metadata": {},
   "source": [
    "# Bisection Method"
   ]
  },
  {
   "cell_type": "markdown",
   "metadata": {},
   "source": [
    "### Definition"
   ]
  },
  {
   "cell_type": "markdown",
   "metadata": {},
   "source": [
    "The **bisection method** is a root-finding numerical technique that repeatedly bisects an interval in half."
   ]
  },
  {
   "cell_type": "markdown",
   "metadata": {},
   "source": [
    "### Method"
   ]
  },
  {
   "cell_type": "markdown",
   "metadata": {},
   "source": [
    "An interval $[a_{n+1} \\text{, } b_{n+1}]$ containing a root of $f(x) = 0$ is constracted from $[a_n \\text{, } b_n]$ by letting $p_n = a_n + 0.5(b_n - a_n)$ and updating as follows:"
   ]
  },
  {
   "cell_type": "markdown",
   "metadata": {},
   "source": [
    "$a_{n+1} = a_n \\,\\,\\, \\& \\,\\,\\, b_{n+1} = p_n$ if $f(a_n)f(p_n) < 0$ or <br>\n",
    "$a_{n+1} = p_n \\,\\,\\, \\& \\,\\,\\, b_{n+1} = b_n$ if $f(a_n)f(p_n) > 0$"
   ]
  },
  {
   "cell_type": "markdown",
   "metadata": {},
   "source": [
    "### Stopping Criteria"
   ]
  },
  {
   "cell_type": "markdown",
   "metadata": {},
   "source": [
    "1. The method stops if $f(p_n) = 0$ for some $n$\n",
    "2. The method stops if $|b_{n+1} - a_{n+1}| < \\text{TOL}$ (user defined tolerance)\n",
    "                       $|f(p_n)| < \\text{TOL}$\n",
    "                       $|p_{n+1} - p_n| < \\text{TOL}$ (most general one)\n",
    "3. The method stops if $n > N$ (user defined # of iterations)"
   ]
  },
  {
   "cell_type": "markdown",
   "metadata": {},
   "source": [
    "### Error Analysis"
   ]
  },
  {
   "cell_type": "code",
   "execution_count": null,
   "metadata": {},
   "outputs": [],
   "source": []
  },
  {
   "cell_type": "markdown",
   "metadata": {},
   "source": [
    "### Theorem"
   ]
  },
  {
   "cell_type": "markdown",
   "metadata": {},
   "source": [
    "If $[a_0 \\text{, } b_0]$, $[a_1 \\text{, } b_1]$, $ \\cdots $, $[a_n \\text{, } b_n]$, $ \\cdots $ denote the intervals in the bisection method, then $ \\lim_{n \\to \\infty} a_n $ and $ \\lim_{n \\to \\infty} b_n $ exists, are equal, and represent a zero of $f$. If $ r = \\lim_{n \\to \\infty} p_n $ and $ p_n = 0.5(a_n + b_n) $, then $ |r - p_n| \\leq 0.5^{n+1}(b_0 - a_0) $."
   ]
  },
  {
   "cell_type": "markdown",
   "metadata": {},
   "source": [
    "### Excercise"
   ]
  },
  {
   "cell_type": "markdown",
   "metadata": {},
   "source": [
    "Use the bisection method to find the positive root of $ f(x) = x^2 - 1 = 0 $. Use $[a_0 \\text{, } b_0] = [0.5, \\pi]$."
   ]
  },
  {
   "cell_type": "markdown",
   "metadata": {},
   "source": [
    "### Pseudocode"
   ]
  },
  {
   "cell_type": "markdown",
   "metadata": {},
   "source": [
    "**input** $a_0, b_0, f, TOL, N$ <br>\n",
    "&emsp; &emsp; $p_0 \\leftarrow a_0 + 0.5(b_0 - a_0)$ <br>\n",
    "&emsp; &emsp; if $f(a_0) * f(p_0) < 0$ then <br>\n",
    "&emsp; &emsp; &emsp; $a_1 = a_0$ and $b_1 = p_0$ <br>\n",
    "&emsp; &emsp; end <br>\n",
    "&emsp; &emsp; if $f(a_0) * f(p_0) > 0$ then <br>\n",
    "&emsp; &emsp; &emsp; $a_1 = p_0$ and $b_1 = b_0$ <br>\n",
    "&emsp; &emsp; end <br>\n",
    "&emsp; &emsp; if $p_0 == 0$ OR $|b_0 - a_0| < TOL$ OR $k < N$ then <br>\n",
    "&emsp; &emsp; &emsp; exit <br>\n",
    "&emsp; &emsp; end <br>"
   ]
  },
  {
   "cell_type": "code",
   "execution_count": null,
   "metadata": {},
   "outputs": [],
   "source": [
    "# https://stackoverflow.com/questions/47061626/how-to-get-tab-space-in-markdown-cell-of-jupyter-notebook"
   ]
  },
  {
   "cell_type": "markdown",
   "metadata": {},
   "source": [
    "# ch3sec1pr1acp"
   ]
  },
  {
   "cell_type": "markdown",
   "metadata": {},
   "source": [
    "Write and test a subprogram or procedure to implement the bisection algorithm. Test the program on these functions and intervals:"
   ]
  },
  {
   "cell_type": "markdown",
   "metadata": {},
   "source": [
    "\\begin{equation}\n",
    "    x^{-1} - \\tan{x} \\,\\,\\, \\text{on} \\,\\,\\, [0.1, \\pi/2]\n",
    "\\end{equation}"
   ]
  },
  {
   "cell_type": "code",
   "execution_count": 11,
   "metadata": {
    "scrolled": true
   },
   "outputs": [
    {
     "name": "stdout",
     "output_type": "stream",
     "text": [
      "The positive root of f(x) = x^-1 - tan x is 0\n"
     ]
    }
   ],
   "source": [
    "# Import math Library\n",
    "import math\n",
    "\n",
    "tol = 1e-8\n",
    "# N = 2\n",
    "# a = []\n",
    "# a.append(0.1)\n",
    "# b = []\n",
    "# b.append(0.5*math.pi)\n",
    "a = 0.1\n",
    "b = 0.5*math.pi\n",
    "# p = []\n",
    "# i = 1\n",
    "for i in range(1,2):\n",
    "    p = (a + 0.5*(b - a))\n",
    "#     p.append(a + 0.5*(b - a))\n",
    "#     pint = float(p[i-1])\n",
    "    fa = a**-1 - math.tan(a)\n",
    "    fp = p**-1 - math.tan(p)\n",
    "    if fa*fp < 0:\n",
    "        a = a\n",
    "        b = p\n",
    "    if fa*fp > 0:\n",
    "        a = p\n",
    "        b = b\n",
    "    if fa*fp == 0 or abs(b-a) < tol:\n",
    "        r = p\n",
    "        break\n",
    "# print(p)\n",
    "# print(fa)\n",
    "\n",
    "#     if fa*fp == 0 or abs(b-a):\n",
    "#         r = p\n",
    "#         break\n",
    "#     i = i + 1\n",
    "\n",
    "print('The positive root of f(x) = x^-1 - tan x is %d' % float(r))\n",
    "\n",
    "# for x in range(1,11):\n",
    "#     for y in range(1,11):\n",
    "#         print('%d * %d = %d' % (x, y, x*y))\n",
    "# a = sqrt(2)\n",
    "# pprint(a)\n",
    "# print(a)\n",
    "\n",
    "# print(\"------------------------\")\n",
    "\n",
    "# c = (exp(x) ** 2)/2\n",
    "# pprint(c)\n",
    "# print(c)"
   ]
  },
  {
   "cell_type": "code",
   "execution_count": 29,
   "metadata": {},
   "outputs": [
    {
     "data": {
      "text/plain": [
       "0.8353981633974482"
      ]
     },
     "execution_count": 29,
     "metadata": {},
     "output_type": "execute_result"
    }
   ],
   "source": [
    "a = 0.1\n",
    "b = 0.5*math.pi\n",
    "p = []\n",
    "for i in range(1,20,3):\n",
    "    p.append(a + 0.5*(b - a))\n",
    "    a = a + i\n",
    "    b = b + i\n",
    "float(p[0])"
   ]
  },
  {
   "cell_type": "code",
   "execution_count": 7,
   "metadata": {},
   "outputs": [
    {
     "name": "stdout",
     "output_type": "stream",
     "text": [
      "2\n",
      "5\n",
      "8\n",
      "11\n",
      "14\n",
      "17\n",
      "20\n",
      "[1, 16, 49, 100, 169, 256, 361]\n"
     ]
    }
   ],
   "source": [
    "L = []\n",
    "for i in range(1,20,3):\n",
    "    h = i + 1\n",
    "    print(h)\n",
    "    L.append(i**2)\n",
    "print(L)"
   ]
  },
  {
   "cell_type": "code",
   "execution_count": 14,
   "metadata": {},
   "outputs": [
    {
     "name": "stdout",
     "output_type": "stream",
     "text": [
      "-7\n"
     ]
    }
   ],
   "source": [
    "L = [1,2,3]\n",
    "L2 = L\n",
    "L2[0] = -9\n",
    "l = L[0]+L[1]\n",
    "print(l)"
   ]
  },
  {
   "cell_type": "code",
   "execution_count": 12,
   "metadata": {},
   "outputs": [
    {
     "name": "stdout",
     "output_type": "stream",
     "text": [
      "1.4707963267948965\n"
     ]
    }
   ],
   "source": [
    "import math\n",
    "a = 0.1\n",
    "b = 0.5*math.pi\n",
    "c = abs(a-b)\n",
    "print(c)\n",
    "# p = []\n",
    "# i = 1\n",
    "# for i in range(1,10):\n",
    "#     p = a + 0.5*(b - a)\n",
    "#     print(p)\n",
    "#     a = a + i\n",
    "#     b = b + i"
   ]
  },
  {
   "cell_type": "code",
   "execution_count": 33,
   "metadata": {},
   "outputs": [
    {
     "data": {
      "text/plain": [
       "0.020000000000000004"
      ]
     },
     "execution_count": 33,
     "metadata": {},
     "output_type": "execute_result"
    }
   ],
   "source": [
    "a[0]*a[1]"
   ]
  },
  {
   "cell_type": "code",
   "execution_count": null,
   "metadata": {},
   "outputs": [],
   "source": []
  }
 ],
 "metadata": {
  "kernelspec": {
   "display_name": "Python 3",
   "language": "python",
   "name": "python3"
  },
  "language_info": {
   "codemirror_mode": {
    "name": "ipython",
    "version": 3
   },
   "file_extension": ".py",
   "mimetype": "text/x-python",
   "name": "python",
   "nbconvert_exporter": "python",
   "pygments_lexer": "ipython3",
   "version": "3.7.3"
  }
 },
 "nbformat": 4,
 "nbformat_minor": 2
}
