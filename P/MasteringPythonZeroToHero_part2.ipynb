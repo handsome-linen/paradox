{
 "cells": [
  {
   "cell_type": "markdown",
   "metadata": {},
   "source": [
    "# Data Structures"
   ]
  },
  {
   "cell_type": "markdown",
   "metadata": {},
   "source": [
    "\\* List       Ordered,   changeable,        duplicates <br>\n",
    "\\* Tuple      Ordered,   unchangeable,      duplicates <br>\n",
    "\\* Set        Unordered, addable/removable, no duplicates <br>\n",
    "\\* Dictionary Unordered, changeable,        no duplicates <br>"
   ]
  },
  {
   "cell_type": "code",
   "execution_count": 3,
   "metadata": {},
   "outputs": [],
   "source": [
    "L = [1,3,4.9,\"name\",3] # List\n",
    "T = (1,3,4.8,\"name\",3) # Tuple\n",
    "S = {1,3,4.9,\"name\",3} # Set\n",
    "D = {23:\"twothree\",'B':43,'c':'CCD'} # Dictionaly"
   ]
  },
  {
   "cell_type": "code",
   "execution_count": 4,
   "metadata": {},
   "outputs": [
    {
     "name": "stdout",
     "output_type": "stream",
     "text": [
      "The type of L is  <class 'list'>\n",
      "The type of T is  <class 'tuple'>\n",
      "The type of S is  <class 'set'>\n",
      "The type of D is  <class 'dict'>\n"
     ]
    }
   ],
   "source": [
    "print(\"The type of L is \", type(L))\n",
    "print(\"The type of T is \", type(T))\n",
    "print(\"The type of S is \", type(S))\n",
    "print(\"The type of D is \", type(D))"
   ]
  },
  {
   "cell_type": "code",
   "execution_count": 5,
   "metadata": {},
   "outputs": [
    {
     "name": "stdout",
     "output_type": "stream",
     "text": [
      "3\n",
      "3\n",
      "True\n",
      "twothree\n"
     ]
    }
   ],
   "source": [
    "print(L[1])\n",
    "print(T[1])\n",
    "print(3 in S)\n",
    "print(D[23])"
   ]
  },
  {
   "cell_type": "code",
   "execution_count": 6,
   "metadata": {},
   "outputs": [
    {
     "name": "stdout",
     "output_type": "stream",
     "text": [
      "43\n"
     ]
    }
   ],
   "source": [
    "print(D['B'])"
   ]
  },
  {
   "cell_type": "code",
   "execution_count": 7,
   "metadata": {},
   "outputs": [
    {
     "data": {
      "text/plain": [
       "{1, 3, 4.9, 'name'}"
      ]
     },
     "execution_count": 7,
     "metadata": {},
     "output_type": "execute_result"
    }
   ],
   "source": [
    "S"
   ]
  },
  {
   "cell_type": "code",
   "execution_count": 8,
   "metadata": {},
   "outputs": [
    {
     "data": {
      "text/plain": [
       "[1, 3, 4.9, 'name', 3]"
      ]
     },
     "execution_count": 8,
     "metadata": {},
     "output_type": "execute_result"
    }
   ],
   "source": [
    "L"
   ]
  },
  {
   "cell_type": "code",
   "execution_count": 9,
   "metadata": {},
   "outputs": [
    {
     "data": {
      "text/plain": [
       "[3, 4.9]"
      ]
     },
     "execution_count": 9,
     "metadata": {},
     "output_type": "execute_result"
    }
   ],
   "source": [
    "L[1:3]"
   ]
  },
  {
   "cell_type": "code",
   "execution_count": 10,
   "metadata": {},
   "outputs": [
    {
     "data": {
      "text/plain": [
       "[3, 'name', 4.9, 3, 1]"
      ]
     },
     "execution_count": 10,
     "metadata": {},
     "output_type": "execute_result"
    }
   ],
   "source": [
    "L[::-1]"
   ]
  },
  {
   "cell_type": "code",
   "execution_count": 11,
   "metadata": {},
   "outputs": [
    {
     "data": {
      "text/plain": [
       "(1, 3, 4.8)"
      ]
     },
     "execution_count": 11,
     "metadata": {},
     "output_type": "execute_result"
    }
   ],
   "source": [
    "T[:3]"
   ]
  },
  {
   "cell_type": "code",
   "execution_count": 12,
   "metadata": {},
   "outputs": [
    {
     "data": {
      "text/plain": [
       "(3, 'name', 4.8, 3, 1)"
      ]
     },
     "execution_count": 12,
     "metadata": {},
     "output_type": "execute_result"
    }
   ],
   "source": [
    "T[::-1]"
   ]
  },
  {
   "cell_type": "code",
   "execution_count": 13,
   "metadata": {},
   "outputs": [
    {
     "data": {
      "text/plain": [
       "[1, 3, 4.9, 'name', 3]"
      ]
     },
     "execution_count": 13,
     "metadata": {},
     "output_type": "execute_result"
    }
   ],
   "source": [
    "L"
   ]
  },
  {
   "cell_type": "code",
   "execution_count": 14,
   "metadata": {},
   "outputs": [],
   "source": [
    "L = L + [\"how\",\"are\",6,\"you\"]"
   ]
  },
  {
   "cell_type": "code",
   "execution_count": 15,
   "metadata": {},
   "outputs": [],
   "source": [
    "L.append(6.8)"
   ]
  },
  {
   "cell_type": "code",
   "execution_count": 16,
   "metadata": {},
   "outputs": [
    {
     "data": {
      "text/plain": [
       "[1, 3, 4.9, 'name', 3, 'how', 'are', 6, 'you', 6.8]"
      ]
     },
     "execution_count": 16,
     "metadata": {},
     "output_type": "execute_result"
    }
   ],
   "source": [
    "L"
   ]
  },
  {
   "cell_type": "code",
   "execution_count": 17,
   "metadata": {},
   "outputs": [],
   "source": [
    "T2 = (\"a\",\"b\",45)\n",
    "T3 = T + T2"
   ]
  },
  {
   "cell_type": "code",
   "execution_count": 18,
   "metadata": {},
   "outputs": [
    {
     "data": {
      "text/plain": [
       "(1, 3, 4.8, 'name', 3, 'a', 'b', 45)"
      ]
     },
     "execution_count": 18,
     "metadata": {},
     "output_type": "execute_result"
    }
   ],
   "source": [
    "T3"
   ]
  },
  {
   "cell_type": "code",
   "execution_count": 19,
   "metadata": {},
   "outputs": [
    {
     "data": {
      "text/plain": [
       "{1, 3, 4.9, 'name'}"
      ]
     },
     "execution_count": 19,
     "metadata": {},
     "output_type": "execute_result"
    }
   ],
   "source": [
    "S"
   ]
  },
  {
   "cell_type": "code",
   "execution_count": 20,
   "metadata": {},
   "outputs": [],
   "source": [
    "S.add(56)"
   ]
  },
  {
   "cell_type": "code",
   "execution_count": 21,
   "metadata": {},
   "outputs": [
    {
     "data": {
      "text/plain": [
       "{1, 3, 4.9, 56, 'name'}"
      ]
     },
     "execution_count": 21,
     "metadata": {},
     "output_type": "execute_result"
    }
   ],
   "source": [
    "S"
   ]
  },
  {
   "cell_type": "code",
   "execution_count": 22,
   "metadata": {},
   "outputs": [],
   "source": [
    "S.update({23,\"game\",1})"
   ]
  },
  {
   "cell_type": "code",
   "execution_count": 23,
   "metadata": {},
   "outputs": [
    {
     "data": {
      "text/plain": [
       "{1, 23, 3, 4.9, 56, 'game', 'name'}"
      ]
     },
     "execution_count": 23,
     "metadata": {},
     "output_type": "execute_result"
    }
   ],
   "source": [
    "S"
   ]
  },
  {
   "cell_type": "code",
   "execution_count": 24,
   "metadata": {},
   "outputs": [
    {
     "data": {
      "text/plain": [
       "{23: 'twothree', 'B': 43, 'c': 'CCD'}"
      ]
     },
     "execution_count": 24,
     "metadata": {},
     "output_type": "execute_result"
    }
   ],
   "source": [
    "D"
   ]
  },
  {
   "cell_type": "code",
   "execution_count": 25,
   "metadata": {},
   "outputs": [],
   "source": [
    "D['newKey'] = \"newValue\""
   ]
  },
  {
   "cell_type": "code",
   "execution_count": 26,
   "metadata": {},
   "outputs": [
    {
     "data": {
      "text/plain": [
       "{23: 'twothree', 'B': 43, 'c': 'CCD', 'newKey': 'newValue'}"
      ]
     },
     "execution_count": 26,
     "metadata": {},
     "output_type": "execute_result"
    }
   ],
   "source": [
    "D"
   ]
  },
  {
   "cell_type": "code",
   "execution_count": 27,
   "metadata": {},
   "outputs": [],
   "source": [
    "D2 = {\"y\":\"YY\",\"z\":10}"
   ]
  },
  {
   "cell_type": "code",
   "execution_count": 28,
   "metadata": {},
   "outputs": [
    {
     "data": {
      "text/plain": [
       "[1, 3, 4.9, 'name', 3, 'how', 'are', 6, 'you', 6.8]"
      ]
     },
     "execution_count": 28,
     "metadata": {},
     "output_type": "execute_result"
    }
   ],
   "source": [
    "L"
   ]
  },
  {
   "cell_type": "code",
   "execution_count": 29,
   "metadata": {},
   "outputs": [],
   "source": [
    "del L[3]"
   ]
  },
  {
   "cell_type": "code",
   "execution_count": 30,
   "metadata": {},
   "outputs": [
    {
     "data": {
      "text/plain": [
       "[1, 3, 4.9, 3, 'how', 'are', 6, 'you', 6.8]"
      ]
     },
     "execution_count": 30,
     "metadata": {},
     "output_type": "execute_result"
    }
   ],
   "source": [
    "L"
   ]
  },
  {
   "cell_type": "code",
   "execution_count": 31,
   "metadata": {},
   "outputs": [
    {
     "data": {
      "text/plain": [
       "{1, 23, 3, 4.9, 56, 'game', 'name'}"
      ]
     },
     "execution_count": 31,
     "metadata": {},
     "output_type": "execute_result"
    }
   ],
   "source": [
    "S"
   ]
  },
  {
   "cell_type": "code",
   "execution_count": 32,
   "metadata": {},
   "outputs": [],
   "source": [
    "S.remove('game')"
   ]
  },
  {
   "cell_type": "code",
   "execution_count": 33,
   "metadata": {},
   "outputs": [
    {
     "data": {
      "text/plain": [
       "{1, 23, 3, 4.9, 56, 'name'}"
      ]
     },
     "execution_count": 33,
     "metadata": {},
     "output_type": "execute_result"
    }
   ],
   "source": [
    "S"
   ]
  },
  {
   "cell_type": "code",
   "execution_count": 34,
   "metadata": {},
   "outputs": [
    {
     "data": {
      "text/plain": [
       "{23: 'twothree', 'B': 43, 'c': 'CCD', 'newKey': 'newValue'}"
      ]
     },
     "execution_count": 34,
     "metadata": {},
     "output_type": "execute_result"
    }
   ],
   "source": [
    "D"
   ]
  },
  {
   "cell_type": "code",
   "execution_count": 35,
   "metadata": {},
   "outputs": [],
   "source": [
    "del D['c']"
   ]
  },
  {
   "cell_type": "code",
   "execution_count": 36,
   "metadata": {},
   "outputs": [
    {
     "data": {
      "text/plain": [
       "{23: 'twothree', 'B': 43, 'newKey': 'newValue'}"
      ]
     },
     "execution_count": 36,
     "metadata": {},
     "output_type": "execute_result"
    }
   ],
   "source": [
    "D"
   ]
  },
  {
   "cell_type": "code",
   "execution_count": 37,
   "metadata": {},
   "outputs": [
    {
     "ename": "TypeError",
     "evalue": "unsupported operand type(s) for +: 'dict' and 'dict'",
     "output_type": "error",
     "traceback": [
      "\u001b[1;31m---------------------------------------------------------------------------\u001b[0m",
      "\u001b[1;31mTypeError\u001b[0m                                 Traceback (most recent call last)",
      "\u001b[1;32m<ipython-input-37-02f7553b163b>\u001b[0m in \u001b[0;36m<module>\u001b[1;34m\u001b[0m\n\u001b[1;32m----> 1\u001b[1;33m \u001b[0mD\u001b[0m \u001b[1;33m=\u001b[0m \u001b[0mD\u001b[0m \u001b[1;33m+\u001b[0m \u001b[0mD2\u001b[0m\u001b[1;33m\u001b[0m\u001b[1;33m\u001b[0m\u001b[0m\n\u001b[0m",
      "\u001b[1;31mTypeError\u001b[0m: unsupported operand type(s) for +: 'dict' and 'dict'"
     ]
    }
   ],
   "source": [
    "D = D + D2"
   ]
  },
  {
   "cell_type": "code",
   "execution_count": 38,
   "metadata": {},
   "outputs": [],
   "source": [
    "D.update(D2) # D is similar to Set"
   ]
  },
  {
   "cell_type": "code",
   "execution_count": 39,
   "metadata": {},
   "outputs": [
    {
     "data": {
      "text/plain": [
       "{23: 'twothree', 'B': 43, 'newKey': 'newValue', 'y': 'YY', 'z': 10}"
      ]
     },
     "execution_count": 39,
     "metadata": {},
     "output_type": "execute_result"
    }
   ],
   "source": [
    "D"
   ]
  },
  {
   "cell_type": "code",
   "execution_count": 40,
   "metadata": {},
   "outputs": [
    {
     "data": {
      "text/plain": [
       "[1, 3, 4.9, 3, 'how', 'are', 6, 'you', 6.8]"
      ]
     },
     "execution_count": 40,
     "metadata": {},
     "output_type": "execute_result"
    }
   ],
   "source": [
    "L"
   ]
  },
  {
   "cell_type": "code",
   "execution_count": 41,
   "metadata": {},
   "outputs": [],
   "source": [
    "L2 = L"
   ]
  },
  {
   "cell_type": "code",
   "execution_count": 42,
   "metadata": {},
   "outputs": [
    {
     "data": {
      "text/plain": [
       "[1, 3, 4.9, 3, 'how', 'are', 6, 'you', 6.8]"
      ]
     },
     "execution_count": 42,
     "metadata": {},
     "output_type": "execute_result"
    }
   ],
   "source": [
    "L2"
   ]
  },
  {
   "cell_type": "code",
   "execution_count": 43,
   "metadata": {},
   "outputs": [],
   "source": [
    "L2[2] = \"four point nine\""
   ]
  },
  {
   "cell_type": "code",
   "execution_count": 44,
   "metadata": {},
   "outputs": [
    {
     "data": {
      "text/plain": [
       "[1, 3, 'four point nine', 3, 'how', 'are', 6, 'you', 6.8]"
      ]
     },
     "execution_count": 44,
     "metadata": {},
     "output_type": "execute_result"
    }
   ],
   "source": [
    "L2"
   ]
  },
  {
   "cell_type": "code",
   "execution_count": 45,
   "metadata": {},
   "outputs": [
    {
     "data": {
      "text/plain": [
       "[1, 3, 'four point nine', 3, 'how', 'are', 6, 'you', 6.8]"
      ]
     },
     "execution_count": 45,
     "metadata": {},
     "output_type": "execute_result"
    }
   ],
   "source": [
    "L # L and L2 are both pointing the same memory"
   ]
  },
  {
   "cell_type": "code",
   "execution_count": 46,
   "metadata": {},
   "outputs": [],
   "source": [
    "L2 = L.copy()"
   ]
  },
  {
   "cell_type": "code",
   "execution_count": 47,
   "metadata": {},
   "outputs": [
    {
     "data": {
      "text/plain": [
       "[1, 3, 'four point nine', 3, 'how', 'are', 6, 'you', 6.8]"
      ]
     },
     "execution_count": 47,
     "metadata": {},
     "output_type": "execute_result"
    }
   ],
   "source": [
    "L2"
   ]
  },
  {
   "cell_type": "code",
   "execution_count": 48,
   "metadata": {},
   "outputs": [],
   "source": [
    "L2[2] = 4.9"
   ]
  },
  {
   "cell_type": "code",
   "execution_count": 49,
   "metadata": {},
   "outputs": [
    {
     "data": {
      "text/plain": [
       "[1, 3, 4.9, 3, 'how', 'are', 6, 'you', 6.8]"
      ]
     },
     "execution_count": 49,
     "metadata": {},
     "output_type": "execute_result"
    }
   ],
   "source": [
    "L2"
   ]
  },
  {
   "cell_type": "code",
   "execution_count": 50,
   "metadata": {},
   "outputs": [
    {
     "data": {
      "text/plain": [
       "[1, 3, 'four point nine', 3, 'how', 'are', 6, 'you', 6.8]"
      ]
     },
     "execution_count": 50,
     "metadata": {},
     "output_type": "execute_result"
    }
   ],
   "source": [
    "L"
   ]
  },
  {
   "cell_type": "markdown",
   "metadata": {},
   "source": [
    "Set and Dictionay behave the same way."
   ]
  },
  {
   "cell_type": "code",
   "execution_count": 51,
   "metadata": {},
   "outputs": [],
   "source": [
    "L3 = L[1:5] # L3(slicing) is automatically a copy"
   ]
  },
  {
   "cell_type": "code",
   "execution_count": 52,
   "metadata": {},
   "outputs": [
    {
     "data": {
      "text/plain": [
       "[3, 'four point nine', 3, 'how']"
      ]
     },
     "execution_count": 52,
     "metadata": {},
     "output_type": "execute_result"
    }
   ],
   "source": [
    "L3"
   ]
  },
  {
   "cell_type": "code",
   "execution_count": 53,
   "metadata": {},
   "outputs": [],
   "source": [
    "L3[0] = \"three\""
   ]
  },
  {
   "cell_type": "code",
   "execution_count": 54,
   "metadata": {},
   "outputs": [
    {
     "data": {
      "text/plain": [
       "['three', 'four point nine', 3, 'how']"
      ]
     },
     "execution_count": 54,
     "metadata": {},
     "output_type": "execute_result"
    }
   ],
   "source": [
    "L3"
   ]
  },
  {
   "cell_type": "code",
   "execution_count": 55,
   "metadata": {},
   "outputs": [
    {
     "data": {
      "text/plain": [
       "[1, 3, 'four point nine', 3, 'how', 'are', 6, 'you', 6.8]"
      ]
     },
     "execution_count": 55,
     "metadata": {},
     "output_type": "execute_result"
    }
   ],
   "source": [
    "L"
   ]
  },
  {
   "cell_type": "code",
   "execution_count": 56,
   "metadata": {},
   "outputs": [
    {
     "name": "stdout",
     "output_type": "stream",
     "text": [
      "Help on built-in function append:\n",
      "\n",
      "append(object, /) method of builtins.list instance\n",
      "    Append object to the end of the list.\n",
      "\n"
     ]
    }
   ],
   "source": [
    "help(L.append)"
   ]
  },
  {
   "cell_type": "code",
   "execution_count": 57,
   "metadata": {},
   "outputs": [],
   "source": [
    "L.clear?"
   ]
  },
  {
   "cell_type": "code",
   "execution_count": 58,
   "metadata": {},
   "outputs": [],
   "source": [
    "L.pop?"
   ]
  },
  {
   "cell_type": "code",
   "execution_count": 59,
   "metadata": {},
   "outputs": [],
   "source": [
    "L.reverse()"
   ]
  },
  {
   "cell_type": "code",
   "execution_count": 60,
   "metadata": {},
   "outputs": [
    {
     "data": {
      "text/plain": [
       "[6.8, 'you', 6, 'are', 'how', 3, 'four point nine', 3, 1]"
      ]
     },
     "execution_count": 60,
     "metadata": {},
     "output_type": "execute_result"
    }
   ],
   "source": [
    "L"
   ]
  },
  {
   "cell_type": "code",
   "execution_count": 61,
   "metadata": {},
   "outputs": [
    {
     "data": {
      "text/plain": [
       "[1, 3, 'four point nine', 3, 'how', 'are', 6, 'you', 6.8]"
      ]
     },
     "execution_count": 61,
     "metadata": {},
     "output_type": "execute_result"
    }
   ],
   "source": [
    "L[::-1]"
   ]
  },
  {
   "cell_type": "code",
   "execution_count": 62,
   "metadata": {},
   "outputs": [
    {
     "data": {
      "text/plain": [
       "dict_items([(23, 'twothree'), ('B', 43), ('newKey', 'newValue'), ('y', 'YY'), ('z', 10)])"
      ]
     },
     "execution_count": 62,
     "metadata": {},
     "output_type": "execute_result"
    }
   ],
   "source": [
    "D.items()"
   ]
  },
  {
   "cell_type": "code",
   "execution_count": 63,
   "metadata": {},
   "outputs": [
    {
     "data": {
      "text/plain": [
       "[6.8, 'you', 6, 'are', 'how', 3, 'four point nine', 3, 1]"
      ]
     },
     "execution_count": 63,
     "metadata": {},
     "output_type": "execute_result"
    }
   ],
   "source": [
    "L"
   ]
  },
  {
   "cell_type": "code",
   "execution_count": 64,
   "metadata": {},
   "outputs": [
    {
     "data": {
      "text/plain": [
       "(1, 3, 4.8, 'name', 3)"
      ]
     },
     "execution_count": 64,
     "metadata": {},
     "output_type": "execute_result"
    }
   ],
   "source": [
    "T"
   ]
  },
  {
   "cell_type": "code",
   "execution_count": 65,
   "metadata": {},
   "outputs": [
    {
     "data": {
      "text/plain": [
       "{1, 23, 3, 4.9, 56, 'name'}"
      ]
     },
     "execution_count": 65,
     "metadata": {},
     "output_type": "execute_result"
    }
   ],
   "source": [
    "S"
   ]
  },
  {
   "cell_type": "code",
   "execution_count": 66,
   "metadata": {},
   "outputs": [
    {
     "data": {
      "text/plain": [
       "{23: 'twothree', 'B': 43, 'newKey': 'newValue', 'y': 'YY', 'z': 10}"
      ]
     },
     "execution_count": 66,
     "metadata": {},
     "output_type": "execute_result"
    }
   ],
   "source": [
    "D"
   ]
  },
  {
   "cell_type": "code",
   "execution_count": 67,
   "metadata": {},
   "outputs": [],
   "source": [
    "D2 = {'A':L,'B':T,'C':S,'D':D}"
   ]
  },
  {
   "cell_type": "code",
   "execution_count": 68,
   "metadata": {},
   "outputs": [
    {
     "data": {
      "text/plain": [
       "{'A': [6.8, 'you', 6, 'are', 'how', 3, 'four point nine', 3, 1],\n",
       " 'B': (1, 3, 4.8, 'name', 3),\n",
       " 'C': {1, 23, 3, 4.9, 56, 'name'},\n",
       " 'D': {23: 'twothree', 'B': 43, 'newKey': 'newValue', 'y': 'YY', 'z': 10}}"
      ]
     },
     "execution_count": 68,
     "metadata": {},
     "output_type": "execute_result"
    }
   ],
   "source": [
    "D2"
   ]
  },
  {
   "cell_type": "code",
   "execution_count": 69,
   "metadata": {},
   "outputs": [
    {
     "data": {
      "text/plain": [
       "[6.8, 'you', 6, 'are', 'how', 3, 'four point nine', 3, 1]"
      ]
     },
     "execution_count": 69,
     "metadata": {},
     "output_type": "execute_result"
    }
   ],
   "source": [
    "D2['A']"
   ]
  },
  {
   "cell_type": "code",
   "execution_count": 70,
   "metadata": {},
   "outputs": [
    {
     "data": {
      "text/plain": [
       "'are'"
      ]
     },
     "execution_count": 70,
     "metadata": {},
     "output_type": "execute_result"
    }
   ],
   "source": [
    "D2['A'][3]"
   ]
  },
  {
   "cell_type": "code",
   "execution_count": 75,
   "metadata": {},
   "outputs": [],
   "source": [
    "K = D2['D']"
   ]
  },
  {
   "cell_type": "code",
   "execution_count": 76,
   "metadata": {},
   "outputs": [
    {
     "data": {
      "text/plain": [
       "{23: 'twothree', 'B': 43, 'newKey': 'newValue', 'y': 'YY', 'z': 10}"
      ]
     },
     "execution_count": 76,
     "metadata": {},
     "output_type": "execute_result"
    }
   ],
   "source": [
    "K"
   ]
  },
  {
   "cell_type": "code",
   "execution_count": 77,
   "metadata": {},
   "outputs": [
    {
     "name": "stdout",
     "output_type": "stream",
     "text": [
      "23 twothree\n",
      "B 43\n",
      "newKey newValue\n",
      "y YY\n",
      "z 10\n"
     ]
    }
   ],
   "source": [
    "for x in K:\n",
    "    print(x, K[x])"
   ]
  },
  {
   "cell_type": "code",
   "execution_count": 78,
   "metadata": {},
   "outputs": [],
   "source": [
    "L3 = [L,T,D,23,\"game\"]"
   ]
  },
  {
   "cell_type": "code",
   "execution_count": 79,
   "metadata": {},
   "outputs": [
    {
     "data": {
      "text/plain": [
       "[[6.8, 'you', 6, 'are', 'how', 3, 'four point nine', 3, 1],\n",
       " (1, 3, 4.8, 'name', 3),\n",
       " {23: 'twothree', 'B': 43, 'newKey': 'newValue', 'y': 'YY', 'z': 10},\n",
       " 23,\n",
       " 'game']"
      ]
     },
     "execution_count": 79,
     "metadata": {},
     "output_type": "execute_result"
    }
   ],
   "source": [
    "L3"
   ]
  },
  {
   "cell_type": "code",
   "execution_count": 80,
   "metadata": {},
   "outputs": [
    {
     "data": {
      "text/plain": [
       "dict"
      ]
     },
     "execution_count": 80,
     "metadata": {},
     "output_type": "execute_result"
    }
   ],
   "source": [
    "type(L3[2])"
   ]
  },
  {
   "cell_type": "code",
   "execution_count": 81,
   "metadata": {},
   "outputs": [],
   "source": [
    "L3 = [x**2 for x in range(10)]"
   ]
  },
  {
   "cell_type": "code",
   "execution_count": 82,
   "metadata": {},
   "outputs": [
    {
     "data": {
      "text/plain": [
       "[0, 1, 4, 9, 16, 25, 36, 49, 64, 81]"
      ]
     },
     "execution_count": 82,
     "metadata": {},
     "output_type": "execute_result"
    }
   ],
   "source": [
    "L3"
   ]
  },
  {
   "cell_type": "code",
   "execution_count": 83,
   "metadata": {},
   "outputs": [],
   "source": [
    "S3 = {x**2 for x in range(2,20,3)}"
   ]
  },
  {
   "cell_type": "code",
   "execution_count": 84,
   "metadata": {},
   "outputs": [
    {
     "data": {
      "text/plain": [
       "{4, 25, 64, 121, 196, 289}"
      ]
     },
     "execution_count": 84,
     "metadata": {},
     "output_type": "execute_result"
    }
   ],
   "source": [
    "S3"
   ]
  },
  {
   "cell_type": "code",
   "execution_count": 85,
   "metadata": {},
   "outputs": [
    {
     "data": {
      "text/plain": [
       "True"
      ]
     },
     "execution_count": 85,
     "metadata": {},
     "output_type": "execute_result"
    }
   ],
   "source": [
    "23 in D"
   ]
  },
  {
   "cell_type": "code",
   "execution_count": 86,
   "metadata": {},
   "outputs": [
    {
     "data": {
      "text/plain": [
       "False"
      ]
     },
     "execution_count": 86,
     "metadata": {},
     "output_type": "execute_result"
    }
   ],
   "source": [
    "43 in D"
   ]
  },
  {
   "cell_type": "code",
   "execution_count": 8,
   "metadata": {},
   "outputs": [],
   "source": [
    "\"\"\"Let say you are a teacher, and you have different student records\n",
    "containing id of a student and the marks list in each subject where\n",
    "different students have taken different number of subjects. All these\n",
    "records are in hard copy. You want to enter all the data in computer\n",
    "and want to compute the average marks of each student and display.\"\"\"\n",
    "\n",
    "def getDataFromUser():\n",
    "    D = {}\n",
    "    while True:\n",
    "        studentId = input(\"Enter student ID: \")\n",
    "        marksList = input(\"Enter the marks by comma separated vaules: \")\n",
    "        moreStudents = input('Enter \"no\" for to quit entry: ')\n",
    "        if studentId in D:\n",
    "            print(studentId, \"is already entered.\")\n",
    "        else:\n",
    "            D[studentId] = marksList.split(\",\")\n",
    "        if moreStudents.lower() == \"no\":\n",
    "            return D"
   ]
  },
  {
   "cell_type": "code",
   "execution_count": 11,
   "metadata": {},
   "outputs": [
    {
     "name": "stdout",
     "output_type": "stream",
     "text": [
      "Enter student ID: 12\n",
      "Enter the marks by comma separated vaules: 88,76,92\n",
      "Enter \"no\" for to quit entry: yes\n",
      "Enter student ID: 45\n",
      "Enter the marks by comma separated vaules: 44,55,66,77,88,99\n",
      "Enter \"no\" for to quit entry: yes\n",
      "Enter student ID: 12\n",
      "Enter the marks by comma separated vaules: 45,45\n",
      "Enter \"no\" for to quit entry: yes\n",
      "12 is already entered.\n",
      "Enter student ID: 23\n",
      "Enter the marks by comma separated vaules: 45,45\n",
      "Enter \"no\" for to quit entry: no\n"
     ]
    }
   ],
   "source": [
    "studentData = getDataFromUser()"
   ]
  },
  {
   "cell_type": "code",
   "execution_count": 12,
   "metadata": {},
   "outputs": [
    {
     "data": {
      "text/plain": [
       "{'12': ['88', '76', '92'],\n",
       " '45': ['44', '55', '66', '77', '88', '99'],\n",
       " '23': ['45', '45']}"
      ]
     },
     "execution_count": 12,
     "metadata": {},
     "output_type": "execute_result"
    }
   ],
   "source": [
    "studentData"
   ]
  },
  {
   "cell_type": "code",
   "execution_count": 17,
   "metadata": {},
   "outputs": [],
   "source": [
    "def getAvgMarks(D):\n",
    "    avgMarks = {}\n",
    "    for x in D:\n",
    "        L = D[x]\n",
    "        s = 0\n",
    "        for marks in L:\n",
    "            s += int(marks)\n",
    "        avgMarks[x] = s/len(L)\n",
    "    return avgMarks"
   ]
  },
  {
   "cell_type": "code",
   "execution_count": 18,
   "metadata": {},
   "outputs": [],
   "source": [
    "avgM = getAvgMarks(studentData)"
   ]
  },
  {
   "cell_type": "code",
   "execution_count": 19,
   "metadata": {},
   "outputs": [
    {
     "data": {
      "text/plain": [
       "{'12': 85.33333333333333, '45': 71.5, '23': 45.0}"
      ]
     },
     "execution_count": 19,
     "metadata": {},
     "output_type": "execute_result"
    }
   ],
   "source": [
    "avgM"
   ]
  },
  {
   "cell_type": "code",
   "execution_count": 20,
   "metadata": {},
   "outputs": [
    {
     "name": "stdout",
     "output_type": "stream",
     "text": [
      "Studnt : 12 got avg Marks as:  85.33333333333333\n",
      "Studnt : 45 got avg Marks as:  71.5\n",
      "Studnt : 23 got avg Marks as:  45.0\n"
     ]
    }
   ],
   "source": [
    "for x in avgM:\n",
    "    print(\"Studnt :\", x, \"got avg Marks as: \", avgM[x])"
   ]
  },
  {
   "cell_type": "markdown",
   "metadata": {},
   "source": [
    "# Numpy"
   ]
  },
  {
   "cell_type": "code",
   "execution_count": 1,
   "metadata": {},
   "outputs": [
    {
     "name": "stdout",
     "output_type": "stream",
     "text": [
      "[1 2 3 4 5]\n",
      "[1 6 3 4 9]\n"
     ]
    }
   ],
   "source": [
    "import numpy as np\n",
    "\n",
    "a = np.array([1, 2, 3, 4, 5])\n",
    "b = np.array((1, 6, 3, 4, 9))\n",
    "print(a)\n",
    "print(b)"
   ]
  },
  {
   "cell_type": "code",
   "execution_count": 22,
   "metadata": {},
   "outputs": [],
   "source": [
    "import numpy as np"
   ]
  },
  {
   "cell_type": "code",
   "execution_count": 23,
   "metadata": {},
   "outputs": [],
   "source": [
    "a = np.array([1,2,3,5,7])"
   ]
  },
  {
   "cell_type": "code",
   "execution_count": 24,
   "metadata": {},
   "outputs": [],
   "source": [
    "b = np.array((2,3,5))"
   ]
  },
  {
   "cell_type": "code",
   "execution_count": 25,
   "metadata": {},
   "outputs": [
    {
     "name": "stdout",
     "output_type": "stream",
     "text": [
      "[1 2 3 5 7]\n"
     ]
    }
   ],
   "source": [
    "print(a)"
   ]
  },
  {
   "cell_type": "code",
   "execution_count": 26,
   "metadata": {},
   "outputs": [
    {
     "data": {
      "text/plain": [
       "numpy.ndarray"
      ]
     },
     "execution_count": 26,
     "metadata": {},
     "output_type": "execute_result"
    }
   ],
   "source": [
    "type(a)"
   ]
  },
  {
   "cell_type": "code",
   "execution_count": 27,
   "metadata": {},
   "outputs": [
    {
     "data": {
      "text/plain": [
       "numpy.ndarray"
      ]
     },
     "execution_count": 27,
     "metadata": {},
     "output_type": "execute_result"
    }
   ],
   "source": [
    "type(b)"
   ]
  },
  {
   "cell_type": "code",
   "execution_count": 28,
   "metadata": {},
   "outputs": [
    {
     "data": {
      "text/plain": [
       "dtype('int32')"
      ]
     },
     "execution_count": 28,
     "metadata": {},
     "output_type": "execute_result"
    }
   ],
   "source": [
    "a.dtype"
   ]
  },
  {
   "cell_type": "code",
   "execution_count": 29,
   "metadata": {},
   "outputs": [],
   "source": [
    "a = np.array([1,2,3,5,7],dtype='i')"
   ]
  },
  {
   "cell_type": "code",
   "execution_count": 30,
   "metadata": {},
   "outputs": [],
   "source": [
    "b = np.array((2,3,5),dtype='f')"
   ]
  },
  {
   "cell_type": "code",
   "execution_count": 31,
   "metadata": {},
   "outputs": [
    {
     "data": {
      "text/plain": [
       "dtype('int32')"
      ]
     },
     "execution_count": 31,
     "metadata": {},
     "output_type": "execute_result"
    }
   ],
   "source": [
    "a.dtype"
   ]
  },
  {
   "cell_type": "code",
   "execution_count": 32,
   "metadata": {},
   "outputs": [
    {
     "data": {
      "text/plain": [
       "dtype('float32')"
      ]
     },
     "execution_count": 32,
     "metadata": {},
     "output_type": "execute_result"
    }
   ],
   "source": [
    "b.dtype"
   ]
  },
  {
   "cell_type": "markdown",
   "metadata": {},
   "source": [
    "# Numpy (Dimensions)"
   ]
  },
  {
   "cell_type": "code",
   "execution_count": 34,
   "metadata": {},
   "outputs": [
    {
     "name": "stdout",
     "output_type": "stream",
     "text": [
      "2\n"
     ]
    }
   ],
   "source": [
    "a = np.array([[1,2,3],[4,5,6]])\n",
    "print(a.ndim)"
   ]
  },
  {
   "cell_type": "code",
   "execution_count": 36,
   "metadata": {},
   "outputs": [
    {
     "name": "stdout",
     "output_type": "stream",
     "text": [
      "3\n"
     ]
    }
   ],
   "source": [
    "b = np.array([[[1,2,3],[4,5,6]],[[1,2,3],[4,5,6]]])\n",
    "print(b.ndim)"
   ]
  },
  {
   "cell_type": "code",
   "execution_count": 37,
   "metadata": {},
   "outputs": [
    {
     "name": "stdout",
     "output_type": "stream",
     "text": [
      "2 2 3\n"
     ]
    }
   ],
   "source": [
    "print(b.shape[0],b.shape[1],b.shape[2])"
   ]
  },
  {
   "cell_type": "code",
   "execution_count": 38,
   "metadata": {},
   "outputs": [
    {
     "name": "stdout",
     "output_type": "stream",
     "text": [
      "3\n"
     ]
    }
   ],
   "source": [
    "print(b[1,0,2])"
   ]
  },
  {
   "cell_type": "code",
   "execution_count": 39,
   "metadata": {},
   "outputs": [
    {
     "name": "stdout",
     "output_type": "stream",
     "text": [
      "2 3\n"
     ]
    }
   ],
   "source": [
    "print(a.shape[0],a.shape[1])"
   ]
  },
  {
   "cell_type": "code",
   "execution_count": 40,
   "metadata": {},
   "outputs": [
    {
     "name": "stdout",
     "output_type": "stream",
     "text": [
      "[[1 2 3]\n",
      " [4 5 6]]\n"
     ]
    }
   ],
   "source": [
    "print(a)"
   ]
  },
  {
   "cell_type": "code",
   "execution_count": 41,
   "metadata": {},
   "outputs": [
    {
     "name": "stdout",
     "output_type": "stream",
     "text": [
      "[[[1 2 3]\n",
      "  [4 5 6]]\n",
      "\n",
      " [[1 2 3]\n",
      "  [4 5 6]]]\n"
     ]
    }
   ],
   "source": [
    "print(b)"
   ]
  },
  {
   "cell_type": "code",
   "execution_count": 43,
   "metadata": {},
   "outputs": [
    {
     "data": {
      "text/plain": [
       "3"
      ]
     },
     "execution_count": 43,
     "metadata": {},
     "output_type": "execute_result"
    }
   ],
   "source": [
    "a[0,2] # 1st row, 3rd element"
   ]
  },
  {
   "cell_type": "code",
   "execution_count": 51,
   "metadata": {},
   "outputs": [],
   "source": [
    "B = np.array([[1,2,3,-1],[2,4,5,9]])"
   ]
  },
  {
   "cell_type": "code",
   "execution_count": 52,
   "metadata": {},
   "outputs": [
    {
     "name": "stdout",
     "output_type": "stream",
     "text": [
      "[[ 1  2  3 -1]\n",
      " [ 2  4  5  9]]\n"
     ]
    }
   ],
   "source": [
    "print(B)"
   ]
  },
  {
   "cell_type": "code",
   "execution_count": 53,
   "metadata": {},
   "outputs": [
    {
     "data": {
      "text/plain": [
       "2"
      ]
     },
     "execution_count": 53,
     "metadata": {},
     "output_type": "execute_result"
    }
   ],
   "source": [
    "B.ndim"
   ]
  },
  {
   "cell_type": "code",
   "execution_count": 54,
   "metadata": {},
   "outputs": [
    {
     "data": {
      "text/plain": [
       "5"
      ]
     },
     "execution_count": 54,
     "metadata": {},
     "output_type": "execute_result"
    }
   ],
   "source": [
    "B[1,2] # 2nd row, 3rd element"
   ]
  },
  {
   "cell_type": "code",
   "execution_count": 56,
   "metadata": {},
   "outputs": [],
   "source": [
    "C = np.array([[[1,2,3],[4,5,6],[0,0,-1]],[[-1,-2,-3],[-4,-5,-6],[0,0,1]]])"
   ]
  },
  {
   "cell_type": "code",
   "execution_count": 57,
   "metadata": {},
   "outputs": [
    {
     "data": {
      "text/plain": [
       "3"
      ]
     },
     "execution_count": 57,
     "metadata": {},
     "output_type": "execute_result"
    }
   ],
   "source": [
    "C.ndim"
   ]
  },
  {
   "cell_type": "code",
   "execution_count": 59,
   "metadata": {},
   "outputs": [
    {
     "data": {
      "text/plain": [
       "-3"
      ]
     },
     "execution_count": 59,
     "metadata": {},
     "output_type": "execute_result"
    }
   ],
   "source": [
    "C[1,0,2] # 2nd dimension, 1st row, 3rd element"
   ]
  },
  {
   "cell_type": "code",
   "execution_count": 60,
   "metadata": {},
   "outputs": [
    {
     "data": {
      "text/plain": [
       "numpy.ndarray"
      ]
     },
     "execution_count": 60,
     "metadata": {},
     "output_type": "execute_result"
    }
   ],
   "source": [
    "type(C)"
   ]
  },
  {
   "cell_type": "code",
   "execution_count": 61,
   "metadata": {},
   "outputs": [
    {
     "data": {
      "text/plain": [
       "(2, 3, 3)"
      ]
     },
     "execution_count": 61,
     "metadata": {},
     "output_type": "execute_result"
    }
   ],
   "source": [
    "C.shape"
   ]
  },
  {
   "cell_type": "code",
   "execution_count": 62,
   "metadata": {},
   "outputs": [],
   "source": [
    "A = np.array([2])"
   ]
  },
  {
   "cell_type": "code",
   "execution_count": 63,
   "metadata": {},
   "outputs": [
    {
     "data": {
      "text/plain": [
       "1"
      ]
     },
     "execution_count": 63,
     "metadata": {},
     "output_type": "execute_result"
    }
   ],
   "source": [
    "A.ndim"
   ]
  },
  {
   "cell_type": "code",
   "execution_count": 64,
   "metadata": {},
   "outputs": [],
   "source": [
    "B = np.array(3)"
   ]
  },
  {
   "cell_type": "code",
   "execution_count": 65,
   "metadata": {},
   "outputs": [
    {
     "data": {
      "text/plain": [
       "0"
      ]
     },
     "execution_count": 65,
     "metadata": {},
     "output_type": "execute_result"
    }
   ],
   "source": [
    "B.ndim"
   ]
  },
  {
   "cell_type": "code",
   "execution_count": 67,
   "metadata": {},
   "outputs": [
    {
     "data": {
      "text/plain": [
       "()"
      ]
     },
     "execution_count": 67,
     "metadata": {},
     "output_type": "execute_result"
    }
   ],
   "source": [
    "B.shape"
   ]
  },
  {
   "cell_type": "code",
   "execution_count": 68,
   "metadata": {},
   "outputs": [
    {
     "data": {
      "text/plain": [
       "(1,)"
      ]
     },
     "execution_count": 68,
     "metadata": {},
     "output_type": "execute_result"
    }
   ],
   "source": [
    "A.shape"
   ]
  },
  {
   "cell_type": "code",
   "execution_count": 69,
   "metadata": {},
   "outputs": [
    {
     "data": {
      "text/plain": [
       "18"
      ]
     },
     "execution_count": 69,
     "metadata": {},
     "output_type": "execute_result"
    }
   ],
   "source": [
    "C.size"
   ]
  },
  {
   "cell_type": "code",
   "execution_count": 70,
   "metadata": {},
   "outputs": [
    {
     "data": {
      "text/plain": [
       "1"
      ]
     },
     "execution_count": 70,
     "metadata": {},
     "output_type": "execute_result"
    }
   ],
   "source": [
    "B.size"
   ]
  },
  {
   "cell_type": "code",
   "execution_count": 71,
   "metadata": {},
   "outputs": [
    {
     "data": {
      "text/plain": [
       "72"
      ]
     },
     "execution_count": 71,
     "metadata": {},
     "output_type": "execute_result"
    }
   ],
   "source": [
    "C.nbytes"
   ]
  },
  {
   "cell_type": "code",
   "execution_count": 72,
   "metadata": {},
   "outputs": [
    {
     "data": {
      "text/plain": [
       "dtype('int32')"
      ]
     },
     "execution_count": 72,
     "metadata": {},
     "output_type": "execute_result"
    }
   ],
   "source": [
    "B.dtype"
   ]
  },
  {
   "cell_type": "markdown",
   "metadata": {},
   "source": [
    "# Numpy (np.arrange, reshape, random)"
   ]
  },
  {
   "cell_type": "markdown",
   "metadata": {},
   "source": [
    "* np.arange <br>\n",
    "* np.random.permutation <br>\n",
    "* np.reshape"
   ]
  },
  {
   "cell_type": "code",
   "execution_count": 73,
   "metadata": {},
   "outputs": [],
   "source": [
    "A = np.arange(100)"
   ]
  },
  {
   "cell_type": "code",
   "execution_count": 74,
   "metadata": {},
   "outputs": [
    {
     "name": "stdout",
     "output_type": "stream",
     "text": [
      "[ 0  1  2  3  4  5  6  7  8  9 10 11 12 13 14 15 16 17 18 19 20 21 22 23\n",
      " 24 25 26 27 28 29 30 31 32 33 34 35 36 37 38 39 40 41 42 43 44 45 46 47\n",
      " 48 49 50 51 52 53 54 55 56 57 58 59 60 61 62 63 64 65 66 67 68 69 70 71\n",
      " 72 73 74 75 76 77 78 79 80 81 82 83 84 85 86 87 88 89 90 91 92 93 94 95\n",
      " 96 97 98 99]\n"
     ]
    }
   ],
   "source": [
    "print(A) "
   ]
  },
  {
   "cell_type": "code",
   "execution_count": 75,
   "metadata": {},
   "outputs": [
    {
     "name": "stdout",
     "output_type": "stream",
     "text": [
      "[20 21 22 23 24 25 26 27 28 29 30 31 32 33 34 35 36 37 38 39 40 41 42 43\n",
      " 44 45 46 47 48 49 50 51 52 53 54 55 56 57 58 59 60 61 62 63 64 65 66 67\n",
      " 68 69 70 71 72 73 74 75 76 77 78 79 80 81 82 83 84 85 86 87 88 89 90 91\n",
      " 92 93 94 95 96 97 98 99]\n"
     ]
    }
   ],
   "source": [
    "A = np.arange(20,100)\n",
    "print(A)"
   ]
  },
  {
   "cell_type": "code",
   "execution_count": 76,
   "metadata": {},
   "outputs": [
    {
     "name": "stdout",
     "output_type": "stream",
     "text": [
      "[20 23 26 29 32 35 38 41 44 47 50 53 56 59 62 65 68 71 74 77 80 83 86 89\n",
      " 92 95 98]\n"
     ]
    }
   ],
   "source": [
    "A = np.arange(20,100,3) # for in range(20,100,3)\n",
    "print(A)"
   ]
  },
  {
   "cell_type": "code",
   "execution_count": 77,
   "metadata": {},
   "outputs": [
    {
     "name": "stdout",
     "output_type": "stream",
     "text": [
      "range(0, 10)\n"
     ]
    }
   ],
   "source": [
    "print(range(10))"
   ]
  },
  {
   "cell_type": "code",
   "execution_count": 80,
   "metadata": {},
   "outputs": [
    {
     "name": "stdout",
     "output_type": "stream",
     "text": [
      "[0, 1, 2, 3, 4, 5, 6, 7, 8, 9]\n"
     ]
    }
   ],
   "source": [
    "print(list(range(10)))"
   ]
  },
  {
   "cell_type": "code",
   "execution_count": 82,
   "metadata": {},
   "outputs": [
    {
     "name": "stdout",
     "output_type": "stream",
     "text": [
      "[2 3 0 8 9 1 5 7 6 4]\n"
     ]
    }
   ],
   "source": [
    "A = np.random.permutation(np.arange(10))\n",
    "print(A)"
   ]
  },
  {
   "cell_type": "code",
   "execution_count": 83,
   "metadata": {},
   "outputs": [],
   "source": [
    "np.random.randint?"
   ]
  },
  {
   "cell_type": "code",
   "execution_count": 87,
   "metadata": {},
   "outputs": [],
   "source": [
    "v = np.random.randint(20,300)"
   ]
  },
  {
   "cell_type": "code",
   "execution_count": 88,
   "metadata": {},
   "outputs": [
    {
     "data": {
      "text/plain": [
       "int"
      ]
     },
     "execution_count": 88,
     "metadata": {},
     "output_type": "execute_result"
    }
   ],
   "source": [
    "type(v)"
   ]
  },
  {
   "cell_type": "code",
   "execution_count": 2,
   "metadata": {},
   "outputs": [],
   "source": [
    "A = np.random.rand(1000) # uniformly distributed"
   ]
  },
  {
   "cell_type": "code",
   "execution_count": 3,
   "metadata": {},
   "outputs": [
    {
     "data": {
      "text/plain": [
       "array([9.53135209e-01, 3.29091341e-01, 3.85993535e-01, 9.16524703e-01,\n",
       "       8.11810907e-01, 9.11277878e-01, 7.46752250e-01, 4.79535665e-01,\n",
       "       6.48477681e-02, 2.29307163e-01, 8.22859042e-01, 8.79121955e-02,\n",
       "       3.17933649e-01, 6.80017025e-01, 4.57543182e-01, 5.71586501e-01,\n",
       "       9.76298315e-01, 6.22870709e-01, 3.69643119e-01, 2.20672433e-01,\n",
       "       6.38982833e-01, 1.46097147e-01, 7.19151549e-01, 5.60584508e-01,\n",
       "       7.69225340e-01, 7.99629299e-01, 1.75186623e-02, 6.51279866e-01,\n",
       "       7.74498985e-01, 8.44515422e-01, 5.52789628e-01, 8.99573689e-01,\n",
       "       4.53271941e-02, 5.59960338e-01, 8.64283732e-01, 5.24376162e-01,\n",
       "       1.69300381e-01, 9.76581518e-01, 2.52662819e-01, 2.34271379e-01,\n",
       "       1.92968225e-02, 6.33237120e-01, 2.76435814e-01, 5.68872120e-01,\n",
       "       9.88604722e-01, 6.93922588e-01, 3.59204768e-01, 4.65220867e-01,\n",
       "       3.34787657e-01, 5.04500880e-01, 1.22696725e-01, 2.76806406e-02,\n",
       "       7.02698960e-01, 4.25921762e-02, 9.78236691e-01, 1.50481230e-01,\n",
       "       9.91380996e-01, 4.77846188e-01, 6.89713423e-01, 9.42478763e-01,\n",
       "       2.28591121e-01, 8.78796176e-01, 4.30312632e-01, 8.14577180e-01,\n",
       "       1.01017804e-01, 9.31670189e-01, 9.83213824e-01, 4.41745128e-01,\n",
       "       7.77907189e-01, 8.24598949e-01, 5.69616083e-01, 8.06254560e-01,\n",
       "       3.97120257e-01, 5.19549215e-01, 1.88427212e-01, 7.00187226e-01,\n",
       "       3.66103954e-01, 3.58254099e-02, 4.01102270e-01, 8.81585437e-01,\n",
       "       8.97749222e-01, 6.59225327e-02, 1.21094840e-01, 7.40988146e-01,\n",
       "       3.60390599e-01, 5.91601067e-01, 7.23868402e-01, 7.31139794e-01,\n",
       "       2.95509985e-01, 3.60736846e-01, 4.47694548e-01, 2.74968289e-01,\n",
       "       9.57356933e-01, 1.16382617e-01, 8.86897837e-01, 4.15337270e-01,\n",
       "       1.42210419e-01, 7.48634738e-01, 5.60494651e-01, 5.34347719e-01,\n",
       "       2.08055217e-01, 4.80965729e-01, 8.09348674e-01, 2.30124706e-01,\n",
       "       9.16346208e-01, 9.36973653e-01, 3.49713046e-01, 6.40105936e-01,\n",
       "       2.62516491e-02, 9.95253618e-02, 5.60909224e-01, 2.50700024e-01,\n",
       "       9.45338458e-01, 5.96070914e-01, 5.28842207e-01, 4.90360576e-01,\n",
       "       3.15964948e-01, 9.79100343e-01, 3.63760169e-01, 5.13512040e-01,\n",
       "       4.27148624e-01, 7.02449605e-04, 3.70589086e-02, 6.91663460e-01,\n",
       "       1.00359246e-01, 7.43160662e-01, 1.25545755e-01, 9.82554001e-01,\n",
       "       4.51188680e-01, 1.13911303e-01, 7.77887637e-02, 4.70785993e-02,\n",
       "       2.54905472e-01, 7.84702607e-01, 4.53500801e-01, 3.97316145e-01,\n",
       "       6.45018414e-01, 5.22614799e-01, 2.57909851e-01, 3.36628500e-01,\n",
       "       4.63258780e-01, 3.94424068e-01, 3.44112386e-01, 8.91377189e-01,\n",
       "       9.95258735e-01, 9.55052359e-01, 2.83903878e-01, 2.46796197e-01,\n",
       "       7.02021265e-01, 2.96329864e-01, 8.99070448e-01, 7.37106790e-01,\n",
       "       8.39051713e-01, 7.77937581e-01, 8.93331406e-01, 7.64181137e-01,\n",
       "       2.61386123e-01, 4.05723929e-01, 9.14051222e-01, 3.10352112e-01,\n",
       "       9.32456400e-01, 5.13038371e-01, 5.52674185e-01, 8.09401458e-01,\n",
       "       2.92333430e-01, 1.28020301e-01, 3.73536618e-01, 3.28495835e-01,\n",
       "       4.43009261e-01, 7.42507513e-01, 6.90598951e-01, 2.43363830e-01,\n",
       "       9.75788104e-01, 9.74723555e-01, 4.35602335e-01, 2.66230519e-01,\n",
       "       9.72330041e-01, 8.53125154e-01, 8.17744523e-01, 4.25357624e-01,\n",
       "       3.95838542e-01, 5.98177599e-02, 7.61575958e-01, 6.76863379e-02,\n",
       "       5.09414427e-01, 5.47141725e-01, 7.39431065e-01, 2.99039154e-01,\n",
       "       9.33851485e-01, 6.91521535e-01, 9.66226182e-01, 5.30841855e-01,\n",
       "       9.37555508e-01, 8.67724276e-01, 7.13022064e-01, 2.88657946e-01,\n",
       "       8.56836512e-02, 4.93200760e-01, 3.56608655e-01, 2.08716837e-01,\n",
       "       7.07604871e-01, 3.75653281e-01, 8.87918383e-01, 2.22060100e-01,\n",
       "       6.26658976e-01, 8.24104048e-01, 6.23191500e-01, 2.60997432e-01,\n",
       "       9.31460051e-01, 6.56504229e-01, 1.88104804e-01, 5.34627895e-01,\n",
       "       6.02007064e-01, 4.56435459e-01, 8.36387025e-01, 9.71941472e-01,\n",
       "       7.45032218e-01, 8.11264254e-01, 9.21478190e-01, 1.40450700e-01,\n",
       "       6.77887345e-01, 1.89025998e-01, 5.57428709e-01, 3.06189391e-01,\n",
       "       6.31052547e-01, 6.46396270e-01, 4.90079942e-01, 1.60123857e-01,\n",
       "       3.87966454e-01, 5.87298790e-01, 2.61985177e-01, 7.95488194e-01,\n",
       "       4.15382017e-01, 2.13081579e-01, 4.42210228e-01, 8.56219711e-01,\n",
       "       3.80094094e-01, 5.19649413e-01, 8.66732849e-02, 1.22529323e-01,\n",
       "       7.03581634e-01, 3.38946978e-01, 8.15391098e-01, 7.01846565e-01,\n",
       "       7.71301580e-01, 9.10372009e-01, 2.65174562e-01, 2.91048983e-01,\n",
       "       5.11084493e-01, 3.50342976e-01, 1.57912988e-01, 6.35473562e-01,\n",
       "       3.42765972e-01, 7.10765309e-01, 5.21256396e-01, 3.84973932e-01,\n",
       "       9.36344632e-01, 6.77815471e-01, 8.02391761e-01, 5.61281462e-01,\n",
       "       3.92038750e-01, 2.18980455e-01, 7.77205105e-01, 4.81061109e-01,\n",
       "       4.47723692e-01, 9.35373114e-01, 5.59584107e-01, 6.69356075e-01,\n",
       "       4.77639065e-01, 7.43871245e-02, 8.29185540e-02, 6.63354303e-02,\n",
       "       2.73184454e-01, 3.23567950e-02, 3.40406126e-01, 6.31889203e-01,\n",
       "       2.42032426e-02, 1.97449616e-01, 6.76391485e-01, 4.78519711e-01,\n",
       "       5.32191271e-01, 1.50659320e-01, 1.38252968e-02, 9.71834754e-01,\n",
       "       5.47694661e-01, 4.45785172e-01, 1.36475433e-01, 2.72313551e-01,\n",
       "       9.91170200e-01, 4.70194411e-01, 6.44688495e-01, 6.28971470e-01,\n",
       "       6.78558030e-01, 6.20698431e-01, 1.03232877e-01, 7.11427501e-01,\n",
       "       2.35357002e-01, 2.94213266e-01, 2.31127454e-01, 5.51166220e-01,\n",
       "       2.85242488e-01, 9.96071374e-01, 6.71762603e-02, 8.50121821e-01,\n",
       "       5.88637646e-01, 9.51862636e-01, 7.34929020e-01, 5.93718898e-01,\n",
       "       4.25439717e-01, 9.41471711e-01, 1.20976911e-01, 9.04099377e-01,\n",
       "       6.83629928e-01, 9.14334713e-01, 7.27220097e-01, 2.81468032e-01,\n",
       "       5.59505471e-01, 2.31244519e-01, 9.35445520e-01, 4.59761330e-01,\n",
       "       8.14840918e-01, 5.68431854e-01, 8.52597393e-01, 4.75640948e-01,\n",
       "       9.57280107e-01, 6.34989129e-01, 1.00113464e-01, 2.25053972e-02,\n",
       "       9.24220953e-01, 9.38304758e-01, 1.79853298e-01, 1.98087278e-01,\n",
       "       3.45516264e-01, 3.14196862e-01, 4.01977498e-01, 7.41856929e-01,\n",
       "       8.71577206e-01, 5.41848820e-01, 2.62794334e-01, 8.48494468e-01,\n",
       "       9.96158366e-01, 8.78124320e-01, 4.36151137e-01, 8.79986920e-01,\n",
       "       8.12816500e-01, 1.66292337e-01, 8.07165598e-01, 3.93697766e-01,\n",
       "       1.41989153e-01, 2.79973565e-01, 6.27481384e-01, 8.93687710e-01,\n",
       "       7.47722667e-01, 4.55522235e-01, 9.14683515e-01, 3.26323596e-01,\n",
       "       7.98351274e-01, 2.29145698e-01, 2.48231333e-01, 5.23507329e-01,\n",
       "       5.70855091e-02, 4.60766308e-01, 7.56294959e-01, 8.68032543e-01,\n",
       "       6.99053364e-01, 7.90312353e-01, 8.96458179e-01, 7.73533418e-01,\n",
       "       8.85360408e-02, 8.16390938e-01, 2.29871580e-01, 6.13776017e-01,\n",
       "       8.72595483e-01, 5.56584835e-01, 5.50862739e-02, 6.83656591e-01,\n",
       "       3.25918528e-02, 7.39318099e-01, 5.18922469e-02, 5.92906753e-01,\n",
       "       6.77223484e-01, 4.08585267e-01, 5.78403677e-01, 9.14298309e-01,\n",
       "       7.01970174e-01, 1.19794846e-01, 1.67154466e-01, 8.68811339e-03,\n",
       "       2.49405495e-01, 8.90153558e-01, 7.42552221e-01, 2.14556413e-01,\n",
       "       5.43479993e-01, 4.66527599e-01, 5.16456166e-01, 8.10791779e-01,\n",
       "       3.50912608e-01, 3.68121717e-01, 4.78845986e-01, 3.63431985e-01,\n",
       "       4.15343534e-01, 5.50912346e-02, 9.72206234e-01, 6.62620068e-01,\n",
       "       8.81310351e-01, 1.21130273e-01, 6.13025892e-01, 1.34542759e-01,\n",
       "       6.27047418e-01, 9.78519953e-01, 1.48075141e-01, 5.35597801e-01,\n",
       "       3.67984097e-01, 9.85202471e-01, 8.66725629e-01, 3.48252860e-02,\n",
       "       2.69214732e-01, 9.07989042e-01, 1.08020507e-02, 6.70389655e-02,\n",
       "       5.56294241e-01, 2.21907584e-01, 8.82184652e-02, 6.62389606e-01,\n",
       "       9.91691473e-01, 8.07810392e-01, 9.41262050e-01, 9.80284762e-01,\n",
       "       7.74915928e-01, 4.84103320e-01, 6.61449429e-01, 1.19443360e-01,\n",
       "       6.60326277e-01, 9.20002685e-01, 2.65557160e-01, 6.24985846e-02,\n",
       "       2.21352507e-01, 7.00453702e-01, 5.10059881e-02, 2.67096810e-01,\n",
       "       2.62617973e-01, 8.26114026e-01, 2.41964245e-01, 9.43694253e-01,\n",
       "       8.90362503e-01, 1.89914418e-02, 7.51991517e-01, 1.90890812e-01,\n",
       "       2.17414589e-01, 1.91113974e-01, 5.90176838e-01, 9.13908925e-01,\n",
       "       3.47244402e-01, 2.64243727e-01, 1.16558983e-01, 5.04247120e-01,\n",
       "       7.49574084e-01, 3.57628912e-01, 5.83149320e-01, 5.29289113e-01,\n",
       "       8.40825696e-01, 8.54586578e-01, 4.32540180e-01, 1.19381954e-01,\n",
       "       6.57674879e-01, 3.06183498e-01, 8.37148498e-01, 3.48464059e-01,\n",
       "       2.98474908e-01, 2.21999108e-01, 8.94374620e-02, 5.98740636e-01,\n",
       "       5.70751377e-01, 6.20363112e-02, 8.43223073e-01, 4.12705601e-01,\n",
       "       9.73607693e-02, 9.12187700e-01, 2.05140362e-01, 1.15961948e-01,\n",
       "       4.19055172e-01, 1.54940475e-01, 2.23113858e-01, 3.01127165e-01,\n",
       "       5.78684562e-01, 6.92123236e-02, 2.66321788e-01, 4.62755706e-01,\n",
       "       1.23029792e-01, 1.12570392e-01, 8.44148728e-01, 3.00595789e-01,\n",
       "       7.85333306e-01, 3.71254144e-01, 3.36586493e-02, 7.72235598e-01,\n",
       "       4.48923113e-01, 8.65234020e-01, 9.87649202e-01, 6.70345850e-01,\n",
       "       7.86165996e-01, 7.63344248e-01, 3.32045044e-02, 4.81509740e-01,\n",
       "       6.62601844e-01, 9.42159371e-01, 8.02042488e-01, 6.38970172e-01,\n",
       "       7.97853092e-01, 6.31220331e-01, 8.59394602e-01, 2.86005018e-01,\n",
       "       6.62696114e-01, 9.56526982e-01, 9.67534031e-01, 6.08327284e-01,\n",
       "       4.13112260e-02, 7.94735134e-01, 8.30587026e-01, 5.73151495e-01,\n",
       "       2.43175968e-02, 7.89722876e-01, 6.13090953e-01, 1.24675370e-01,\n",
       "       9.36505614e-01, 1.00608646e-01, 6.22182084e-01, 8.61762707e-01,\n",
       "       7.36045706e-01, 4.73720957e-01, 2.84213543e-01, 9.08032255e-01,\n",
       "       8.26915729e-01, 7.33001314e-01, 7.20270787e-01, 2.07535348e-01,\n",
       "       2.87210193e-01, 6.76562518e-01, 4.49065162e-01, 9.07884116e-01,\n",
       "       8.51162573e-01, 1.98717372e-01, 6.09861818e-01, 8.47046664e-01,\n",
       "       1.18058337e-01, 8.22912185e-01, 1.82333007e-01, 1.32720418e-01,\n",
       "       4.35896861e-01, 5.56685737e-02, 7.05302339e-01, 5.90754935e-01,\n",
       "       5.21983393e-01, 4.46901052e-01, 3.29236742e-02, 7.76104916e-01,\n",
       "       9.21264494e-01, 1.07385684e-01, 7.36227699e-01, 2.53308296e-01,\n",
       "       5.23001022e-01, 5.14788310e-01, 7.77446015e-01, 5.88862755e-01,\n",
       "       1.76972087e-01, 1.94862286e-01, 6.12585965e-01, 4.04963807e-02,\n",
       "       1.55895591e-01, 3.69316785e-01, 1.55201023e-01, 6.61292189e-02,\n",
       "       7.01755523e-01, 8.71934932e-01, 1.68092567e-01, 9.17048727e-01,\n",
       "       8.92670191e-01, 9.71794138e-01, 5.59225191e-01, 8.68882337e-01,\n",
       "       4.60239366e-01, 3.60216572e-01, 1.03444252e-01, 3.71174320e-01,\n",
       "       5.64126444e-01, 1.54902391e-01, 3.19819861e-01, 3.44060473e-01,\n",
       "       5.61166189e-01, 6.05501530e-01, 2.75682496e-01, 2.06649821e-01,\n",
       "       3.88603821e-03, 1.52176023e-01, 1.85034808e-01, 1.89295341e-01,\n",
       "       9.45296600e-01, 3.68709862e-01, 4.75936179e-01, 3.26943024e-01,\n",
       "       7.48475647e-01, 1.82210891e-01, 1.93250449e-01, 3.00385193e-01,\n",
       "       1.20307634e-01, 2.59361112e-01, 6.00751125e-01, 7.80553206e-01,\n",
       "       8.27493389e-01, 7.83036041e-01, 3.83123026e-01, 9.67017355e-02,\n",
       "       2.97628970e-01, 2.37327719e-01, 1.94928559e-01, 4.35439952e-01,\n",
       "       1.96334219e-01, 7.83867589e-01, 8.73635230e-01, 6.14730891e-01,\n",
       "       7.06538210e-01, 8.42648407e-01, 7.12189498e-01, 8.17271580e-01,\n",
       "       1.67894581e-01, 7.41795331e-01, 6.76609632e-01, 2.19575367e-01,\n",
       "       6.95193200e-01, 7.27979841e-02, 2.22480469e-01, 3.27912624e-01,\n",
       "       2.25350225e-01, 9.72493915e-02, 7.20701706e-02, 6.62455987e-01,\n",
       "       7.48753519e-02, 8.14619814e-02, 8.19083873e-01, 3.30819337e-01,\n",
       "       5.33595170e-01, 1.77794928e-01, 5.77812386e-01, 7.25291956e-01,\n",
       "       1.51324809e-01, 7.58102583e-01, 9.43929048e-01, 1.27777157e-01,\n",
       "       2.86813648e-01, 9.12643742e-01, 1.40426569e-01, 4.83762784e-01,\n",
       "       7.41229879e-01, 4.38790598e-01, 5.43110191e-02, 2.08159261e-01,\n",
       "       1.33622489e-01, 3.75585633e-01, 2.90815651e-01, 7.03196710e-01,\n",
       "       4.13466098e-01, 7.67923287e-01, 6.88734004e-01, 6.91205168e-01,\n",
       "       2.70263577e-02, 5.89333212e-01, 1.43720373e-01, 2.40569844e-01,\n",
       "       9.55208020e-01, 3.15672849e-01, 8.07023027e-01, 4.07085637e-01,\n",
       "       2.93047733e-01, 9.95085622e-02, 8.32516298e-01, 8.15728848e-01,\n",
       "       7.80959286e-01, 2.23630869e-01, 5.12960310e-01, 9.92941760e-01,\n",
       "       3.22546666e-01, 9.52524521e-01, 3.43367297e-01, 4.34544614e-01,\n",
       "       9.76487895e-01, 2.56714320e-01, 5.77577912e-01, 5.73362047e-01,\n",
       "       5.21119398e-01, 2.18671291e-01, 8.32678517e-01, 5.30872924e-01,\n",
       "       8.39650119e-01, 1.62374856e-01, 6.40338291e-01, 8.57868667e-01,\n",
       "       3.62269811e-01, 5.75967527e-01, 6.30024399e-01, 2.39109556e-02,\n",
       "       7.85779578e-02, 4.04463760e-01, 1.45182824e-01, 7.04735279e-02,\n",
       "       3.50685464e-01, 6.86461850e-01, 4.54344252e-01, 2.64454372e-01,\n",
       "       2.35315855e-01, 5.91275731e-01, 1.70442265e-02, 3.61616831e-01,\n",
       "       2.30704422e-01, 2.56764004e-02, 5.72038368e-01, 9.16138277e-01,\n",
       "       3.21391180e-01, 9.34220912e-01, 8.29368824e-01, 7.57051493e-01,\n",
       "       6.44608802e-01, 2.94284042e-01, 4.00812583e-02, 1.62294817e-01,\n",
       "       1.36508814e-01, 4.11426423e-01, 6.99647784e-01, 7.63378540e-01,\n",
       "       7.47733464e-01, 1.85107437e-01, 7.00385247e-01, 5.17860617e-01,\n",
       "       4.84937907e-01, 6.22460185e-01, 3.83111609e-01, 5.12365759e-01,\n",
       "       5.41724470e-01, 3.11580469e-01, 9.48186698e-02, 7.72933081e-01,\n",
       "       6.74747879e-02, 1.79617051e-02, 9.61550438e-01, 3.24502752e-02,\n",
       "       4.96936180e-01, 2.25503298e-01, 3.84862655e-01, 7.68531855e-01,\n",
       "       2.35146995e-01, 8.78214566e-01, 2.30774013e-01, 5.51946243e-01,\n",
       "       2.58507905e-02, 8.03793876e-01, 1.60562513e-01, 6.07543496e-01,\n",
       "       7.62072899e-01, 8.71531147e-01, 3.12027173e-01, 8.40374080e-01,\n",
       "       2.47589496e-02, 7.94351590e-02, 4.10061888e-01, 8.42932732e-01,\n",
       "       3.57006276e-02, 3.18299949e-01, 8.74853035e-01, 4.41119360e-01,\n",
       "       4.49880845e-01, 4.74120604e-01, 3.57112196e-01, 6.15398920e-01,\n",
       "       8.38422033e-01, 5.21676018e-01, 1.90530820e-01, 8.46996678e-01,\n",
       "       5.03880066e-01, 4.28227626e-01, 6.36489536e-01, 6.65702960e-02,\n",
       "       7.54349256e-01, 3.56314840e-01, 4.91069767e-01, 2.21015632e-03,\n",
       "       2.68157616e-01, 3.69393325e-01, 8.24647400e-01, 6.64816585e-01,\n",
       "       3.63349334e-01, 7.06569044e-01, 8.92760774e-02, 6.55294445e-01,\n",
       "       5.96355074e-01, 4.59342977e-01, 8.96825742e-02, 5.31187292e-01,\n",
       "       8.90201130e-02, 3.79131125e-01, 1.75655057e-01, 6.87912803e-01,\n",
       "       6.26170288e-01, 5.23347366e-01, 6.94441537e-01, 3.52543431e-01,\n",
       "       8.89963065e-01, 8.47794555e-01, 8.71215619e-01, 7.22236265e-01,\n",
       "       2.57018029e-01, 4.34976704e-03, 1.35038710e-01, 8.58518982e-01,\n",
       "       7.30608013e-01, 8.70855618e-01, 9.85816207e-01, 6.99442289e-01,\n",
       "       5.74149457e-01, 2.21048223e-01, 7.99712263e-01, 8.46352517e-01,\n",
       "       9.15296594e-01, 7.85451934e-01, 1.83090178e-01, 3.98107841e-01,\n",
       "       7.84080971e-01, 2.22866869e-01, 2.84152558e-01, 4.79172625e-01,\n",
       "       8.11247094e-01, 9.99198578e-01, 9.78104932e-01, 2.97752243e-01,\n",
       "       9.59230848e-01, 8.04636825e-01, 5.12077512e-01, 1.78389583e-01,\n",
       "       5.81817087e-01, 5.41563371e-01, 7.23553120e-01, 3.43222778e-01,\n",
       "       1.44527848e-01, 3.90108824e-01, 7.23322656e-01, 4.00297431e-01,\n",
       "       8.31068122e-02, 2.49680786e-01, 8.50038055e-01, 1.92984722e-01,\n",
       "       2.80382273e-01, 9.47862668e-01, 2.74116327e-01, 6.80820009e-01,\n",
       "       7.34405839e-01, 4.16362442e-01, 2.76010205e-01, 5.41877199e-01,\n",
       "       8.96468178e-01, 9.80112156e-01, 7.45753108e-01, 6.81668210e-01,\n",
       "       6.53599893e-01, 6.59794500e-01, 4.34533367e-01, 5.47485945e-01,\n",
       "       5.50500847e-01, 1.07837879e-01, 3.07552712e-01, 4.22756906e-01,\n",
       "       1.88089475e-01, 1.31860756e-01, 2.07840193e-01, 2.21693760e-01,\n",
       "       5.33896728e-03, 7.39794628e-01, 8.54784104e-01, 4.15194667e-01,\n",
       "       5.84097559e-01, 3.39172145e-01, 4.89488301e-01, 6.75598000e-01,\n",
       "       7.84453090e-01, 1.70077696e-01, 9.03481420e-01, 4.85712948e-01,\n",
       "       2.94616063e-01, 4.42529509e-01, 7.83276277e-01, 7.30068352e-01,\n",
       "       4.59504753e-01, 6.12833661e-01, 5.12361614e-01, 5.46474109e-01,\n",
       "       5.77126264e-01, 5.77793041e-01, 5.06413498e-01, 6.02043672e-01,\n",
       "       1.51959022e-01, 4.72053937e-01, 6.29676774e-01, 4.69106015e-03,\n",
       "       3.56687659e-01, 5.06854950e-01, 4.99784793e-01, 2.09211402e-01,\n",
       "       7.12162071e-01, 7.77756608e-01, 1.44974144e-01, 2.07988903e-01,\n",
       "       3.16054238e-01, 6.06642172e-02, 7.32810170e-02, 4.27440247e-01,\n",
       "       8.13115410e-01, 4.20262900e-01, 8.98343267e-01, 4.30806066e-01,\n",
       "       1.62328711e-01, 4.48864393e-01, 1.27840083e-01, 2.04809303e-01,\n",
       "       1.71292578e-01, 1.70144207e-01, 2.74043929e-01, 4.52767123e-01,\n",
       "       9.45929481e-01, 9.42617157e-01, 4.92876397e-01, 8.88461950e-01,\n",
       "       6.98667421e-01, 3.22642755e-01, 3.96533807e-01, 1.02465944e-01,\n",
       "       5.89279096e-01, 3.41853553e-01, 7.55962353e-01, 3.60538184e-01,\n",
       "       7.71200320e-01, 5.85689370e-01, 5.07047794e-02, 5.77052640e-01,\n",
       "       6.48460211e-01, 9.06002508e-01, 7.93047641e-02, 4.27587254e-02,\n",
       "       2.02065157e-01, 3.72659388e-01, 2.43799475e-01, 3.67274718e-01,\n",
       "       6.58907352e-01, 9.48122704e-01, 1.56747598e-01, 3.86834025e-01,\n",
       "       8.55570370e-01, 7.15961347e-01, 5.82828444e-01, 6.40976958e-01,\n",
       "       8.92839370e-01, 9.53984646e-01, 3.96574507e-01, 4.59905240e-01,\n",
       "       3.52295908e-01, 9.71282215e-01, 7.06231257e-01, 7.86485926e-01,\n",
       "       6.93567828e-01, 3.63688338e-01, 6.59638580e-01, 9.32492829e-01,\n",
       "       7.91771824e-02, 9.57598115e-01, 1.12680965e-01, 8.79639380e-01,\n",
       "       4.12460873e-01, 8.65308174e-01, 2.40177501e-01, 8.69767145e-01,\n",
       "       6.97002234e-01, 3.15856675e-01, 6.03259240e-01, 8.57935997e-01,\n",
       "       5.31512814e-01, 3.65273648e-01, 6.90727913e-01, 2.14119065e-01,\n",
       "       2.31124138e-01, 2.31662516e-01, 6.39787751e-02, 4.29561832e-01,\n",
       "       6.27843792e-01, 2.75673226e-01, 9.30522502e-01, 3.51705969e-01,\n",
       "       2.44196475e-01, 7.78242862e-01, 9.44916599e-01, 3.48596757e-01,\n",
       "       4.14911433e-01, 8.86994432e-01, 5.56951156e-01, 6.12170229e-01])"
      ]
     },
     "execution_count": 3,
     "metadata": {},
     "output_type": "execute_result"
    }
   ],
   "source": [
    "A"
   ]
  },
  {
   "cell_type": "code",
   "execution_count": 4,
   "metadata": {},
   "outputs": [],
   "source": [
    "import matplotlib.pyplot as plt"
   ]
  },
  {
   "cell_type": "code",
   "execution_count": 5,
   "metadata": {},
   "outputs": [
    {
     "data": {
      "text/plain": [
       "(array([ 95.,  96., 112.,  98.,  94., 102.,  95., 102., 109.,  97.]),\n",
       " array([7.02449605e-04, 1.00552062e-01, 2.00401675e-01, 3.00251288e-01,\n",
       "        4.00100901e-01, 4.99950514e-01, 5.99800127e-01, 6.99649740e-01,\n",
       "        7.99499353e-01, 8.99348965e-01, 9.99198578e-01]),\n",
       " <a list of 10 Patch objects>)"
      ]
     },
     "execution_count": 5,
     "metadata": {},
     "output_type": "execute_result"
    },
    {
     "data": {
      "image/png": "[encoded data removed]",
      "text/plain": [
       "<Figure size 432x288 with 1 Axes>"
      ]
     },
     "metadata": {
      "needs_background": "light"
     },
     "output_type": "display_data"
    }
   ],
   "source": [
    "plt.hist(A)"
   ]
  },
  {
   "cell_type": "code",
   "execution_count": 6,
   "metadata": {},
   "outputs": [
    {
     "data": {
      "text/plain": [
       "(array([ 7.,  7., 10., 12.,  5.,  9., 15., 10., 12.,  8.,  7., 11., 11.,\n",
       "         9.,  8., 12., 11.,  6., 10., 11., 11.,  7., 18., 12.,  9.,  8.,\n",
       "        14., 10., 10., 13.,  6., 11.,  8.,  5., 12., 12., 19.,  8.,  8.,\n",
       "         9.,  8., 11.,  8., 10., 13., 11.,  6., 12.,  8.,  7.,  6., 12.,\n",
       "        11.,  9.,  9., 12., 10., 14., 10.,  9.,  7.,  9., 12., 10.,  8.,\n",
       "         7., 10.,  9.,  8., 15., 15.,  7.,  7., 11., 16.,  6.,  8., 14.,\n",
       "        12.,  6., 12., 14.,  9.,  7., 13., 13.,  8., 12.,  8., 13.,  7.,\n",
       "        14.,  4., 14., 13., 11.,  3., 15.,  8.,  8.]),\n",
       " array([7.02449605e-04, 1.06874109e-02, 2.06723722e-02, 3.06573335e-02,\n",
       "        4.06422948e-02, 5.06272560e-02, 6.06122173e-02, 7.05971786e-02,\n",
       "        8.05821399e-02, 9.05671012e-02, 1.00552062e-01, 1.10537024e-01,\n",
       "        1.20521985e-01, 1.30506946e-01, 1.40491908e-01, 1.50476869e-01,\n",
       "        1.60461830e-01, 1.70446791e-01, 1.80431753e-01, 1.90416714e-01,\n",
       "        2.00401675e-01, 2.10386637e-01, 2.20371598e-01, 2.30356559e-01,\n",
       "        2.40341520e-01, 2.50326482e-01, 2.60311443e-01, 2.70296404e-01,\n",
       "        2.80281366e-01, 2.90266327e-01, 3.00251288e-01, 3.10236249e-01,\n",
       "        3.20221211e-01, 3.30206172e-01, 3.40191133e-01, 3.50176095e-01,\n",
       "        3.60161056e-01, 3.70146017e-01, 3.80130979e-01, 3.90115940e-01,\n",
       "        4.00100901e-01, 4.10085862e-01, 4.20070824e-01, 4.30055785e-01,\n",
       "        4.40040746e-01, 4.50025708e-01, 4.60010669e-01, 4.69995630e-01,\n",
       "        4.79980591e-01, 4.89965553e-01, 4.99950514e-01, 5.09935475e-01,\n",
       "        5.19920437e-01, 5.29905398e-01, 5.39890359e-01, 5.49875320e-01,\n",
       "        5.59860282e-01, 5.69845243e-01, 5.79830204e-01, 5.89815166e-01,\n",
       "        5.99800127e-01, 6.09785088e-01, 6.19770049e-01, 6.29755011e-01,\n",
       "        6.39739972e-01, 6.49724933e-01, 6.59709895e-01, 6.69694856e-01,\n",
       "        6.79679817e-01, 6.89664778e-01, 6.99649740e-01, 7.09634701e-01,\n",
       "        7.19619662e-01, 7.29604624e-01, 7.39589585e-01, 7.49574546e-01,\n",
       "        7.59559507e-01, 7.69544469e-01, 7.79529430e-01, 7.89514391e-01,\n",
       "        7.99499353e-01, 8.09484314e-01, 8.19469275e-01, 8.29454236e-01,\n",
       "        8.39439198e-01, 8.49424159e-01, 8.59409120e-01, 8.69394082e-01,\n",
       "        8.79379043e-01, 8.89364004e-01, 8.99348965e-01, 9.09333927e-01,\n",
       "        9.19318888e-01, 9.29303849e-01, 9.39288811e-01, 9.49273772e-01,\n",
       "        9.59258733e-01, 9.69243694e-01, 9.79228656e-01, 9.89213617e-01,\n",
       "        9.99198578e-01]),\n",
       " <a list of 100 Patch objects>)"
      ]
     },
     "execution_count": 6,
     "metadata": {},
     "output_type": "execute_result"
    },
    {
     "data": {
      "image/png": "[encoded data removed]",
      "text/plain": [
       "<Figure size 432x288 with 1 Axes>"
      ]
     },
     "metadata": {
      "needs_background": "light"
     },
     "output_type": "display_data"
    }
   ],
   "source": [
    "plt.hist(A,bins=100)"
   ]
  },
  {
   "cell_type": "code",
   "execution_count": 8,
   "metadata": {},
   "outputs": [
    {
     "data": {
      "text/plain": [
       "(array([1.000e+00, 0.000e+00, 0.000e+00, 0.000e+00, 0.000e+00, 0.000e+00,\n",
       "        0.000e+00, 0.000e+00, 0.000e+00, 0.000e+00, 0.000e+00, 0.000e+00,\n",
       "        0.000e+00, 0.000e+00, 0.000e+00, 0.000e+00, 0.000e+00, 3.000e+00,\n",
       "        0.000e+00, 0.000e+00, 0.000e+00, 2.000e+00, 2.000e+00, 3.000e+00,\n",
       "        0.000e+00, 4.000e+00, 6.000e+00, 3.000e+00, 5.000e+00, 4.000e+00,\n",
       "        5.000e+00, 9.000e+00, 1.000e+01, 6.000e+00, 1.600e+01, 2.000e+01,\n",
       "        1.200e+01, 2.500e+01, 2.400e+01, 1.500e+01, 2.500e+01, 4.400e+01,\n",
       "        4.700e+01, 4.700e+01, 5.700e+01, 5.900e+01, 5.900e+01, 8.500e+01,\n",
       "        8.400e+01, 8.600e+01, 1.180e+02, 1.100e+02, 1.260e+02, 1.350e+02,\n",
       "        1.690e+02, 1.680e+02, 1.970e+02, 2.290e+02, 2.340e+02, 2.840e+02,\n",
       "        3.190e+02, 3.610e+02, 3.720e+02, 4.140e+02, 4.760e+02, 4.640e+02,\n",
       "        5.110e+02, 5.090e+02, 5.540e+02, 6.500e+02, 6.600e+02, 7.380e+02,\n",
       "        7.570e+02, 8.120e+02, 8.570e+02, 9.670e+02, 1.035e+03, 1.027e+03,\n",
       "        1.095e+03, 1.074e+03, 1.159e+03, 1.250e+03, 1.271e+03, 1.417e+03,\n",
       "        1.455e+03, 1.408e+03, 1.441e+03, 1.577e+03, 1.638e+03, 1.624e+03,\n",
       "        1.702e+03, 1.797e+03, 1.751e+03, 1.762e+03, 1.803e+03, 1.869e+03,\n",
       "        1.841e+03, 1.972e+03, 1.867e+03, 1.901e+03, 1.918e+03, 1.893e+03,\n",
       "        1.917e+03, 1.855e+03, 1.843e+03, 1.838e+03, 1.771e+03, 1.844e+03,\n",
       "        1.783e+03, 1.784e+03, 1.693e+03, 1.696e+03, 1.654e+03, 1.535e+03,\n",
       "        1.591e+03, 1.580e+03, 1.423e+03, 1.432e+03, 1.302e+03, 1.302e+03,\n",
       "        1.234e+03, 1.170e+03, 1.114e+03, 1.067e+03, 9.850e+02, 8.860e+02,\n",
       "        8.580e+02, 8.050e+02, 7.990e+02, 7.430e+02, 6.920e+02, 6.640e+02,\n",
       "        5.950e+02, 5.590e+02, 5.100e+02, 4.320e+02, 4.290e+02, 4.510e+02,\n",
       "        3.560e+02, 3.270e+02, 2.950e+02, 2.700e+02, 2.520e+02, 2.390e+02,\n",
       "        2.070e+02, 2.040e+02, 1.750e+02, 1.560e+02, 1.510e+02, 1.210e+02,\n",
       "        1.150e+02, 1.170e+02, 8.000e+01, 8.900e+01, 6.900e+01, 6.200e+01,\n",
       "        4.900e+01, 4.500e+01, 4.200e+01, 3.900e+01, 2.800e+01, 2.700e+01,\n",
       "        1.600e+01, 2.200e+01, 1.900e+01, 1.500e+01, 9.000e+00, 1.300e+01,\n",
       "        9.000e+00, 6.000e+00, 5.000e+00, 5.000e+00, 2.000e+00, 5.000e+00,\n",
       "        3.000e+00, 2.000e+00, 1.000e+00, 2.000e+00, 2.000e+00, 2.000e+00,\n",
       "        0.000e+00, 1.000e+00, 0.000e+00, 2.000e+00, 0.000e+00, 0.000e+00,\n",
       "        1.000e+00, 0.000e+00, 0.000e+00, 0.000e+00, 0.000e+00, 0.000e+00,\n",
       "        0.000e+00, 0.000e+00, 0.000e+00, 0.000e+00, 0.000e+00, 0.000e+00,\n",
       "        0.000e+00, 1.000e+00]),\n",
       " array([-4.81491233, -4.7671102 , -4.71930807, -4.67150593, -4.6237038 ,\n",
       "        -4.57590166, -4.52809953, -4.4802974 , -4.43249526, -4.38469313,\n",
       "        -4.336891  , -4.28908886, -4.24128673, -4.19348459, -4.14568246,\n",
       "        -4.09788033, -4.05007819, -4.00227606, -3.95447393, -3.90667179,\n",
       "        -3.85886966, -3.81106752, -3.76326539, -3.71546326, -3.66766112,\n",
       "        -3.61985899, -3.57205686, -3.52425472, -3.47645259, -3.42865045,\n",
       "        -3.38084832, -3.33304619, -3.28524405, -3.23744192, -3.18963979,\n",
       "        -3.14183765, -3.09403552, -3.04623338, -2.99843125, -2.95062912,\n",
       "        -2.90282698, -2.85502485, -2.80722272, -2.75942058, -2.71161845,\n",
       "        -2.66381631, -2.61601418, -2.56821205, -2.52040991, -2.47260778,\n",
       "        -2.42480565, -2.37700351, -2.32920138, -2.28139924, -2.23359711,\n",
       "        -2.18579498, -2.13799284, -2.09019071, -2.04238858, -1.99458644,\n",
       "        -1.94678431, -1.89898217, -1.85118004, -1.80337791, -1.75557577,\n",
       "        -1.70777364, -1.65997151, -1.61216937, -1.56436724, -1.5165651 ,\n",
       "        -1.46876297, -1.42096084, -1.3731587 , -1.32535657, -1.27755444,\n",
       "        -1.2297523 , -1.18195017, -1.13414803, -1.0863459 , -1.03854377,\n",
       "        -0.99074163, -0.9429395 , -0.89513736, -0.84733523, -0.7995331 ,\n",
       "        -0.75173096, -0.70392883, -0.6561267 , -0.60832456, -0.56052243,\n",
       "        -0.51272029, -0.46491816, -0.41711603, -0.36931389, -0.32151176,\n",
       "        -0.27370963, -0.22590749, -0.17810536, -0.13030322, -0.08250109,\n",
       "        -0.03469896,  0.01310318,  0.06090531,  0.10870744,  0.15650958,\n",
       "         0.20431171,  0.25211385,  0.29991598,  0.34771811,  0.39552025,\n",
       "         0.44332238,  0.49112451,  0.53892665,  0.58672878,  0.63453092,\n",
       "         0.68233305,  0.73013518,  0.77793732,  0.82573945,  0.87354158,\n",
       "         0.92134372,  0.96914585,  1.01694799,  1.06475012,  1.11255225,\n",
       "         1.16035439,  1.20815652,  1.25595865,  1.30376079,  1.35156292,\n",
       "         1.39936506,  1.44716719,  1.49496932,  1.54277146,  1.59057359,\n",
       "         1.63837572,  1.68617786,  1.73397999,  1.78178213,  1.82958426,\n",
       "         1.87738639,  1.92518853,  1.97299066,  2.02079279,  2.06859493,\n",
       "         2.11639706,  2.1641992 ,  2.21200133,  2.25980346,  2.3076056 ,\n",
       "         2.35540773,  2.40320986,  2.451012  ,  2.49881413,  2.54661627,\n",
       "         2.5944184 ,  2.64222053,  2.69002267,  2.7378248 ,  2.78562693,\n",
       "         2.83342907,  2.8812312 ,  2.92903334,  2.97683547,  3.0246376 ,\n",
       "         3.07243974,  3.12024187,  3.168044  ,  3.21584614,  3.26364827,\n",
       "         3.31145041,  3.35925254,  3.40705467,  3.45485681,  3.50265894,\n",
       "         3.55046107,  3.59826321,  3.64606534,  3.69386748,  3.74166961,\n",
       "         3.78947174,  3.83727388,  3.88507601,  3.93287814,  3.98068028,\n",
       "         4.02848241,  4.07628455,  4.12408668,  4.17188881,  4.21969095,\n",
       "         4.26749308,  4.31529521,  4.36309735,  4.41089948,  4.45870162,\n",
       "         4.50650375,  4.55430588,  4.60210802,  4.64991015,  4.69771229,\n",
       "         4.74551442]),\n",
       " <a list of 200 Patch objects>)"
      ]
     },
     "execution_count": 8,
     "metadata": {},
     "output_type": "execute_result"
    },
    {
     "data": {
      "image/png": "[encoded data removed]",
      "text/plain": [
       "<Figure size 432x288 with 1 Axes>"
      ]
     },
     "metadata": {
      "needs_background": "light"
     },
     "output_type": "display_data"
    }
   ],
   "source": [
    "B = np.random.randn(100000) # normally distributed\n",
    "plt.hist(B,bins=200)"
   ]
  },
  {
   "cell_type": "code",
   "execution_count": 9,
   "metadata": {},
   "outputs": [],
   "source": [
    "C = np.random.rand(2,3)"
   ]
  },
  {
   "cell_type": "code",
   "execution_count": 10,
   "metadata": {},
   "outputs": [
    {
     "data": {
      "text/plain": [
       "array([[0.21380742, 0.28764985, 0.52268137],\n",
       "       [0.06196155, 0.44314316, 0.97775648]])"
      ]
     },
     "execution_count": 10,
     "metadata": {},
     "output_type": "execute_result"
    }
   ],
   "source": [
    "C"
   ]
  },
  {
   "cell_type": "code",
   "execution_count": 11,
   "metadata": {},
   "outputs": [
    {
     "data": {
      "text/plain": [
       "2"
      ]
     },
     "execution_count": 11,
     "metadata": {},
     "output_type": "execute_result"
    }
   ],
   "source": [
    "C.ndim"
   ]
  },
  {
   "cell_type": "code",
   "execution_count": 14,
   "metadata": {},
   "outputs": [
    {
     "data": {
      "text/plain": [
       "array([[[[0.91638223, 0.70981815],\n",
       "         [0.34261241, 0.9707664 ],\n",
       "         [0.36246954, 0.86497304],\n",
       "         [0.81149951, 0.76907539]],\n",
       "\n",
       "        [[0.42543293, 0.94622385],\n",
       "         [0.0320747 , 0.32005536],\n",
       "         [0.46656975, 0.3502553 ],\n",
       "         [0.48833905, 0.68709604]],\n",
       "\n",
       "        [[0.04474013, 0.1683199 ],\n",
       "         [0.62237656, 0.50876217],\n",
       "         [0.31659403, 0.97713683],\n",
       "         [0.82964655, 0.25798448]]],\n",
       "\n",
       "\n",
       "       [[[0.35350738, 0.89947285],\n",
       "         [0.20071512, 0.86224799],\n",
       "         [0.19099441, 0.33606393],\n",
       "         [0.86101863, 0.71589195]],\n",
       "\n",
       "        [[0.53076787, 0.38619706],\n",
       "         [0.06238906, 0.73300181],\n",
       "         [0.15453103, 0.55452502],\n",
       "         [0.8616575 , 0.21665191]],\n",
       "\n",
       "        [[0.89334249, 0.00270153],\n",
       "         [0.18659931, 0.42433782],\n",
       "         [0.50872004, 0.23733027],\n",
       "         [0.37854682, 0.48272038]]]])"
      ]
     },
     "execution_count": 14,
     "metadata": {},
     "output_type": "execute_result"
    }
   ],
   "source": [
    "C = np.random.rand(2,3,4,2)\n",
    "C"
   ]
  },
  {
   "cell_type": "code",
   "execution_count": 13,
   "metadata": {},
   "outputs": [
    {
     "data": {
      "text/plain": [
       "4"
      ]
     },
     "execution_count": 13,
     "metadata": {},
     "output_type": "execute_result"
    }
   ],
   "source": [
    "C.ndim"
   ]
  },
  {
   "cell_type": "code",
   "execution_count": 15,
   "metadata": {},
   "outputs": [],
   "source": [
    "D = np.arange(100).reshape(4,25)"
   ]
  },
  {
   "cell_type": "code",
   "execution_count": 16,
   "metadata": {},
   "outputs": [
    {
     "data": {
      "text/plain": [
       "(4, 25)"
      ]
     },
     "execution_count": 16,
     "metadata": {},
     "output_type": "execute_result"
    }
   ],
   "source": [
    "D.shape"
   ]
  },
  {
   "cell_type": "code",
   "execution_count": 19,
   "metadata": {},
   "outputs": [
    {
     "data": {
      "text/plain": [
       "array([[[ 0,  1,  2,  3,  4],\n",
       "        [ 5,  6,  7,  8,  9],\n",
       "        [10, 11, 12, 13, 14],\n",
       "        [15, 16, 17, 18, 19],\n",
       "        [20, 21, 22, 23, 24]],\n",
       "\n",
       "       [[25, 26, 27, 28, 29],\n",
       "        [30, 31, 32, 33, 34],\n",
       "        [35, 36, 37, 38, 39],\n",
       "        [40, 41, 42, 43, 44],\n",
       "        [45, 46, 47, 48, 49]],\n",
       "\n",
       "       [[50, 51, 52, 53, 54],\n",
       "        [55, 56, 57, 58, 59],\n",
       "        [60, 61, 62, 63, 64],\n",
       "        [65, 66, 67, 68, 69],\n",
       "        [70, 71, 72, 73, 74]],\n",
       "\n",
       "       [[75, 76, 77, 78, 79],\n",
       "        [80, 81, 82, 83, 84],\n",
       "        [85, 86, 87, 88, 89],\n",
       "        [90, 91, 92, 93, 94],\n",
       "        [95, 96, 97, 98, 99]]])"
      ]
     },
     "execution_count": 19,
     "metadata": {},
     "output_type": "execute_result"
    }
   ],
   "source": [
    "D = np.arange(100).reshape(4,5,5) # 4 of 5 by 5\n",
    "D"
   ]
  },
  {
   "cell_type": "code",
   "execution_count": 18,
   "metadata": {},
   "outputs": [
    {
     "data": {
      "text/plain": [
       "(4, 5, 5)"
      ]
     },
     "execution_count": 18,
     "metadata": {},
     "output_type": "execute_result"
    }
   ],
   "source": [
    "D.shape"
   ]
  },
  {
   "cell_type": "code",
   "execution_count": 20,
   "metadata": {},
   "outputs": [],
   "source": [
    "np.zeros?"
   ]
  },
  {
   "cell_type": "code",
   "execution_count": 21,
   "metadata": {},
   "outputs": [],
   "source": [
    "np.ones?"
   ]
  },
  {
   "cell_type": "code",
   "execution_count": 22,
   "metadata": {},
   "outputs": [],
   "source": [
    "np.empty?"
   ]
  },
  {
   "cell_type": "markdown",
   "metadata": {},
   "source": [
    "# Numpy (Slicing)"
   ]
  },
  {
   "cell_type": "markdown",
   "metadata": {},
   "source": [
    "A[start:end:step]"
   ]
  },
  {
   "cell_type": "code",
   "execution_count": 2,
   "metadata": {},
   "outputs": [],
   "source": [
    "import numpy as np\n",
    "A = np.arange(100)"
   ]
  },
  {
   "cell_type": "code",
   "execution_count": 3,
   "metadata": {},
   "outputs": [
    {
     "name": "stdout",
     "output_type": "stream",
     "text": [
      "[3 4 5 6 7 8 9]\n"
     ]
    }
   ],
   "source": [
    "b = A[3:10] # index 3 till 10 but not 10\n",
    "print(b)"
   ]
  },
  {
   "cell_type": "code",
   "execution_count": 4,
   "metadata": {},
   "outputs": [],
   "source": [
    "b[0] = -1200"
   ]
  },
  {
   "cell_type": "code",
   "execution_count": 5,
   "metadata": {},
   "outputs": [
    {
     "data": {
      "text/plain": [
       "array([-1200,     4,     5,     6,     7,     8,     9])"
      ]
     },
     "execution_count": 5,
     "metadata": {},
     "output_type": "execute_result"
    }
   ],
   "source": [
    "b"
   ]
  },
  {
   "cell_type": "code",
   "execution_count": 6,
   "metadata": {},
   "outputs": [
    {
     "data": {
      "text/plain": [
       "array([    0,     1,     2, -1200,     4,     5,     6,     7,     8,\n",
       "           9,    10,    11,    12,    13,    14,    15,    16,    17,\n",
       "          18,    19,    20,    21,    22,    23,    24,    25,    26,\n",
       "          27,    28,    29,    30,    31,    32,    33,    34,    35,\n",
       "          36,    37,    38,    39,    40,    41,    42,    43,    44,\n",
       "          45,    46,    47,    48,    49,    50,    51,    52,    53,\n",
       "          54,    55,    56,    57,    58,    59,    60,    61,    62,\n",
       "          63,    64,    65,    66,    67,    68,    69,    70,    71,\n",
       "          72,    73,    74,    75,    76,    77,    78,    79,    80,\n",
       "          81,    82,    83,    84,    85,    86,    87,    88,    89,\n",
       "          90,    91,    92,    93,    94,    95,    96,    97,    98,\n",
       "          99])"
      ]
     },
     "execution_count": 6,
     "metadata": {},
     "output_type": "execute_result"
    }
   ],
   "source": [
    "A # When b is changed, A is changed."
   ]
  },
  {
   "cell_type": "code",
   "execution_count": 7,
   "metadata": {},
   "outputs": [],
   "source": [
    "b = A[3:10].copy()"
   ]
  },
  {
   "cell_type": "code",
   "execution_count": 15,
   "metadata": {},
   "outputs": [
    {
     "data": {
      "text/plain": [
       "array([    0,     1,     2, -1200,     4])"
      ]
     },
     "execution_count": 15,
     "metadata": {},
     "output_type": "execute_result"
    }
   ],
   "source": [
    "A[:5] # index 0 till 5 but not 5"
   ]
  },
  {
   "cell_type": "code",
   "execution_count": 16,
   "metadata": {},
   "outputs": [
    {
     "data": {
      "text/plain": [
       "array([    2, -1200,     4,     5,     6,     7,     8,     9,    10,\n",
       "          11,    12,    13,    14,    15,    16,    17,    18,    19,\n",
       "          20,    21,    22,    23,    24,    25,    26,    27,    28,\n",
       "          29,    30,    31,    32,    33,    34,    35,    36,    37,\n",
       "          38,    39,    40,    41,    42,    43,    44,    45,    46,\n",
       "          47,    48,    49,    50,    51,    52,    53,    54,    55,\n",
       "          56,    57,    58,    59,    60,    61,    62,    63,    64,\n",
       "          65,    66,    67,    68,    69,    70,    71,    72,    73,\n",
       "          74,    75,    76,    77,    78,    79,    80,    81,    82,\n",
       "          83,    84,    85,    86,    87,    88,    89,    90,    91,\n",
       "          92,    93,    94,    95,    96,    97,    98,    99])"
      ]
     },
     "execution_count": 16,
     "metadata": {},
     "output_type": "execute_result"
    }
   ],
   "source": [
    "A[2:] # index 2 till end including last element"
   ]
  },
  {
   "cell_type": "code",
   "execution_count": 8,
   "metadata": {},
   "outputs": [
    {
     "data": {
      "text/plain": [
       "array([ 0,  5, 10, 15, 20, 25, 30, 35, 40, 45, 50, 55, 60, 65, 70, 75, 80,\n",
       "       85, 90, 95])"
      ]
     },
     "execution_count": 8,
     "metadata": {},
     "output_type": "execute_result"
    }
   ],
   "source": [
    "A[::5] # from start till end every 5 element"
   ]
  },
  {
   "cell_type": "code",
   "execution_count": 9,
   "metadata": {},
   "outputs": [
    {
     "data": {
      "text/plain": [
       "array([99, 94, 89, 84, 79, 74, 69, 64, 59, 54, 49, 44, 39, 34, 29, 24, 19,\n",
       "       14,  9,  4])"
      ]
     },
     "execution_count": 9,
     "metadata": {},
     "output_type": "execute_result"
    }
   ],
   "source": [
    "A[::-5] # from end till start every 5 element"
   ]
  },
  {
   "cell_type": "code",
   "execution_count": 10,
   "metadata": {},
   "outputs": [
    {
     "data": {
      "text/plain": [
       "array([   99,    98,    97,    96,    95,    94,    93,    92,    91,\n",
       "          90,    89,    88,    87,    86,    85,    84,    83,    82,\n",
       "          81,    80,    79,    78,    77,    76,    75,    74,    73,\n",
       "          72,    71,    70,    69,    68,    67,    66,    65,    64,\n",
       "          63,    62,    61,    60,    59,    58,    57,    56,    55,\n",
       "          54,    53,    52,    51,    50,    49,    48,    47,    46,\n",
       "          45,    44,    43,    42,    41,    40,    39,    38,    37,\n",
       "          36,    35,    34,    33,    32,    31,    30,    29,    28,\n",
       "          27,    26,    25,    24,    23,    22,    21,    20,    19,\n",
       "          18,    17,    16,    15,    14,    13,    12,    11,    10,\n",
       "           9,     8,     7,     6,     5,     4, -1200,     2,     1,\n",
       "           0])"
      ]
     },
     "execution_count": 10,
     "metadata": {},
     "output_type": "execute_result"
    }
   ],
   "source": [
    "A[::-1] # from end till start (reverse the array)"
   ]
  },
  {
   "cell_type": "code",
   "execution_count": 17,
   "metadata": {},
   "outputs": [
    {
     "ename": "IndexError",
     "evalue": "too many indices for array",
     "output_type": "error",
     "traceback": [
      "\u001b[1;31m---------------------------------------------------------------------------\u001b[0m",
      "\u001b[1;31mIndexError\u001b[0m                                Traceback (most recent call last)",
      "\u001b[1;32m<ipython-input-17-cfcbab5ce0a6>\u001b[0m in \u001b[0;36m<module>\u001b[1;34m\u001b[0m\n\u001b[1;32m----> 1\u001b[1;33m \u001b[0mA\u001b[0m\u001b[1;33m[\u001b[0m\u001b[1;33m:\u001b[0m\u001b[1;33m:\u001b[0m\u001b[1;36m2\u001b[0m\u001b[1;33m,\u001b[0m\u001b[1;33m:\u001b[0m\u001b[1;33m]\u001b[0m\u001b[1;33m\u001b[0m\u001b[1;33m\u001b[0m\u001b[0m\n\u001b[0m",
      "\u001b[1;31mIndexError\u001b[0m: too many indices for array"
     ]
    }
   ],
   "source": [
    "A[::2,:] # ?"
   ]
  },
  {
   "cell_type": "code",
   "execution_count": 11,
   "metadata": {},
   "outputs": [
    {
     "name": "stdout",
     "output_type": "stream",
     "text": [
      "Object `np.index` not found.\n"
     ]
    }
   ],
   "source": [
    "np.index?"
   ]
  },
  {
   "cell_type": "code",
   "execution_count": 12,
   "metadata": {},
   "outputs": [],
   "source": [
    "np.indices?"
   ]
  },
  {
   "cell_type": "code",
   "execution_count": 14,
   "metadata": {},
   "outputs": [
    {
     "data": {
      "text/plain": [
       "array([0, 0, 0, 3, 0, 0, 0, 0, 0, 0, 0, 0, 0, 0, 0, 0, 0, 0, 0, 0, 0, 0,\n",
       "       0, 0, 0, 0, 0, 0, 0, 0, 0, 0, 0, 0, 0, 0, 0, 0, 0, 0, 0, 0, 0, 0,\n",
       "       0, 0, 0, 0, 0, 0, 0, 0, 0, 0, 0, 0, 0, 0, 0, 0, 0, 0, 0, 0, 0, 0,\n",
       "       0, 0, 0, 0, 0, 0, 0, 0, 0, 0, 0, 0, 0, 0, 0, 0, 0, 0, 0, 0, 0, 0,\n",
       "       0, 0, 0, 0, 0, 0, 0, 0, 0, 0, 0, 0])"
      ]
     },
     "execution_count": 14,
     "metadata": {},
     "output_type": "execute_result"
    }
   ],
   "source": [
    "B = (A == -1200)*np.arange(A.size)\n",
    "B"
   ]
  },
  {
   "cell_type": "code",
   "execution_count": 7,
   "metadata": {},
   "outputs": [],
   "source": [
    "idx = np.argwhere(A == -1200)[0][0]"
   ]
  },
  {
   "cell_type": "code",
   "execution_count": 8,
   "metadata": {},
   "outputs": [
    {
     "data": {
      "text/plain": [
       "3"
      ]
     },
     "execution_count": 8,
     "metadata": {},
     "output_type": "execute_result"
    }
   ],
   "source": [
    "idx"
   ]
  },
  {
   "cell_type": "code",
   "execution_count": 9,
   "metadata": {},
   "outputs": [
    {
     "data": {
      "text/plain": [
       "array([ 0,  1,  2,  3,  4,  5,  6,  7,  8,  9, 10, 11, 12, 13, 14, 15, 16,\n",
       "       17, 18, 19, 20, 21, 22, 23, 24, 25, 26, 27, 28, 29, 30, 31, 32, 33,\n",
       "       34, 35, 36, 37, 38, 39, 40, 41, 42, 43, 44, 45, 46, 47, 48, 49, 50,\n",
       "       51, 52, 53, 54, 55, 56, 57, 58, 59, 60, 61, 62, 63, 64, 65, 66, 67,\n",
       "       68, 69, 70, 71, 72, 73, 74, 75, 76, 77, 78, 79, 80, 81, 82, 83, 84,\n",
       "       85, 86, 87, 88, 89, 90, 91, 92, 93, 94, 95, 96, 97, 98, 99])"
      ]
     },
     "execution_count": 9,
     "metadata": {},
     "output_type": "execute_result"
    }
   ],
   "source": [
    "A[idx] = 3\n",
    "A"
   ]
  },
  {
   "cell_type": "code",
   "execution_count": 10,
   "metadata": {},
   "outputs": [],
   "source": [
    "A = np.round(10*np.random.rand(5,4))"
   ]
  },
  {
   "cell_type": "code",
   "execution_count": 11,
   "metadata": {},
   "outputs": [
    {
     "data": {
      "text/plain": [
       "array([[ 7.,  4.,  3.,  4.],\n",
       "       [ 8.,  1.,  8.,  7.],\n",
       "       [ 9.,  9.,  0.,  5.],\n",
       "       [ 6.,  9.,  1.,  8.],\n",
       "       [10.,  2.,  0.,  1.]])"
      ]
     },
     "execution_count": 11,
     "metadata": {},
     "output_type": "execute_result"
    }
   ],
   "source": [
    "A"
   ]
  },
  {
   "cell_type": "code",
   "execution_count": 12,
   "metadata": {},
   "outputs": [
    {
     "data": {
      "text/plain": [
       "8.0"
      ]
     },
     "execution_count": 12,
     "metadata": {},
     "output_type": "execute_result"
    }
   ],
   "source": [
    "A[1,2] # 2nd row 3rd element"
   ]
  },
  {
   "cell_type": "code",
   "execution_count": 13,
   "metadata": {},
   "outputs": [
    {
     "data": {
      "text/plain": [
       "array([8., 1., 8., 7.])"
      ]
     },
     "execution_count": 13,
     "metadata": {},
     "output_type": "execute_result"
    }
   ],
   "source": [
    "A[1,:] # accessing 2nd row"
   ]
  },
  {
   "cell_type": "code",
   "execution_count": 14,
   "metadata": {},
   "outputs": [
    {
     "data": {
      "text/plain": [
       "array([4., 1., 9., 9., 2.])"
      ]
     },
     "execution_count": 14,
     "metadata": {},
     "output_type": "execute_result"
    }
   ],
   "source": [
    "A[:,1] # accessing 2nd column"
   ]
  },
  {
   "cell_type": "code",
   "execution_count": 15,
   "metadata": {},
   "outputs": [
    {
     "data": {
      "text/plain": [
       "array([[8., 7.],\n",
       "       [0., 5.]])"
      ]
     },
     "execution_count": 15,
     "metadata": {},
     "output_type": "execute_result"
    }
   ],
   "source": [
    "A[1:3,2:4] # 2nd to 3rd rows & 3rd to 4th elements"
   ]
  },
  {
   "cell_type": "code",
   "execution_count": 16,
   "metadata": {},
   "outputs": [
    {
     "data": {
      "text/plain": [
       "array([[ 7.,  8.,  9.,  6., 10.],\n",
       "       [ 4.,  1.,  9.,  9.,  2.],\n",
       "       [ 3.,  8.,  0.,  1.,  0.],\n",
       "       [ 4.,  7.,  5.,  8.,  1.]])"
      ]
     },
     "execution_count": 16,
     "metadata": {},
     "output_type": "execute_result"
    }
   ],
   "source": [
    "A.T"
   ]
  },
  {
   "cell_type": "code",
   "execution_count": 17,
   "metadata": {},
   "outputs": [],
   "source": [
    "import numpy.linalg as la"
   ]
  },
  {
   "cell_type": "code",
   "execution_count": 18,
   "metadata": {},
   "outputs": [
    {
     "data": {
      "text/plain": [
       "array([[ 3.13221357, -8.35820836,  3.77613081],\n",
       "       [-5.55027733,  8.85858015, -1.52173219],\n",
       "       [ 4.79052055, -5.42222822,  0.70966289]])"
      ]
     },
     "execution_count": 18,
     "metadata": {},
     "output_type": "execute_result"
    }
   ],
   "source": [
    "la.inv(np.random.rand(3,3))"
   ]
  },
  {
   "cell_type": "code",
   "execution_count": 19,
   "metadata": {},
   "outputs": [
    {
     "data": {
      "text/plain": [
       "array([[ 7.,  4.,  3.,  4.],\n",
       "       [ 8.,  1.,  8.,  7.],\n",
       "       [ 9.,  9.,  0.,  5.],\n",
       "       [ 6.,  9.,  1.,  8.],\n",
       "       [10.,  2.,  0.,  1.]])"
      ]
     },
     "execution_count": 19,
     "metadata": {},
     "output_type": "execute_result"
    }
   ],
   "source": [
    "A"
   ]
  },
  {
   "cell_type": "code",
   "execution_count": 20,
   "metadata": {},
   "outputs": [],
   "source": [
    "A.sort(axis = 0) # every column is sorted"
   ]
  },
  {
   "cell_type": "code",
   "execution_count": 21,
   "metadata": {},
   "outputs": [
    {
     "data": {
      "text/plain": [
       "array([[ 6.,  1.,  0.,  1.],\n",
       "       [ 7.,  2.,  0.,  4.],\n",
       "       [ 8.,  4.,  1.,  5.],\n",
       "       [ 9.,  9.,  3.,  7.],\n",
       "       [10.,  9.,  8.,  8.]])"
      ]
     },
     "execution_count": 21,
     "metadata": {},
     "output_type": "execute_result"
    }
   ],
   "source": [
    "A"
   ]
  },
  {
   "cell_type": "code",
   "execution_count": 22,
   "metadata": {},
   "outputs": [
    {
     "data": {
      "text/plain": [
       "array([[ 0.,  1.,  1.,  6.],\n",
       "       [ 0.,  2.,  4.,  7.],\n",
       "       [ 1.,  4.,  5.,  8.],\n",
       "       [ 3.,  7.,  9.,  9.],\n",
       "       [ 8.,  8.,  9., 10.]])"
      ]
     },
     "execution_count": 22,
     "metadata": {},
     "output_type": "execute_result"
    }
   ],
   "source": [
    "A.sort(axis = 1) # every row is sorted\n",
    "A"
   ]
  },
  {
   "cell_type": "markdown",
   "metadata": {},
   "source": [
    "# Numpy (More Indexing)"
   ]
  },
  {
   "cell_type": "markdown",
   "metadata": {},
   "source": [
    "A[index_array]"
   ]
  },
  {
   "cell_type": "code",
   "execution_count": 2,
   "metadata": {},
   "outputs": [],
   "source": [
    "import numpy as np\n",
    "A = np.arange(100)"
   ]
  },
  {
   "cell_type": "code",
   "execution_count": 3,
   "metadata": {},
   "outputs": [
    {
     "data": {
      "text/plain": [
       "array([3, 5, 6])"
      ]
     },
     "execution_count": 3,
     "metadata": {},
     "output_type": "execute_result"
    }
   ],
   "source": [
    "A[[3,5,6]] # index 3, 5, and 6 elements"
   ]
  },
  {
   "cell_type": "code",
   "execution_count": 4,
   "metadata": {},
   "outputs": [],
   "source": [
    "B = A[[3,5,6]] # indexing this way happens such that copy rather than view"
   ]
  },
  {
   "cell_type": "code",
   "execution_count": 5,
   "metadata": {},
   "outputs": [
    {
     "data": {
      "text/plain": [
       "array([-4,  5,  6])"
      ]
     },
     "execution_count": 5,
     "metadata": {},
     "output_type": "execute_result"
    }
   ],
   "source": [
    "B[0] = -4\n",
    "B"
   ]
  },
  {
   "cell_type": "code",
   "execution_count": 6,
   "metadata": {},
   "outputs": [
    {
     "data": {
      "text/plain": [
       "array([ 0,  1,  2,  3,  4,  5,  6,  7,  8,  9, 10, 11, 12, 13, 14, 15, 16,\n",
       "       17, 18, 19, 20, 21, 22, 23, 24, 25, 26, 27, 28, 29, 30, 31, 32, 33,\n",
       "       34, 35, 36, 37, 38, 39, 40, 41, 42, 43, 44, 45, 46, 47, 48, 49, 50,\n",
       "       51, 52, 53, 54, 55, 56, 57, 58, 59, 60, 61, 62, 63, 64, 65, 66, 67,\n",
       "       68, 69, 70, 71, 72, 73, 74, 75, 76, 77, 78, 79, 80, 81, 82, 83, 84,\n",
       "       85, 86, 87, 88, 89, 90, 91, 92, 93, 94, 95, 96, 97, 98, 99])"
      ]
     },
     "execution_count": 6,
     "metadata": {},
     "output_type": "execute_result"
    }
   ],
   "source": [
    "A"
   ]
  },
  {
   "cell_type": "code",
   "execution_count": 8,
   "metadata": {},
   "outputs": [],
   "source": [
    "B = A[A < 40]"
   ]
  },
  {
   "cell_type": "code",
   "execution_count": 9,
   "metadata": {},
   "outputs": [
    {
     "data": {
      "text/plain": [
       "array([ 0,  1,  2,  3,  4,  5,  6,  7,  8,  9, 10, 11, 12, 13, 14, 15, 16,\n",
       "       17, 18, 19, 20, 21, 22, 23, 24, 25, 26, 27, 28, 29, 30, 31, 32, 33,\n",
       "       34, 35, 36, 37, 38, 39])"
      ]
     },
     "execution_count": 9,
     "metadata": {},
     "output_type": "execute_result"
    }
   ],
   "source": [
    "B"
   ]
  },
  {
   "cell_type": "code",
   "execution_count": 11,
   "metadata": {},
   "outputs": [],
   "source": [
    "B = A[(A < 40) & (A > 30)]"
   ]
  },
  {
   "cell_type": "code",
   "execution_count": 12,
   "metadata": {},
   "outputs": [
    {
     "data": {
      "text/plain": [
       "array([31, 32, 33, 34, 35, 36, 37, 38, 39])"
      ]
     },
     "execution_count": 12,
     "metadata": {},
     "output_type": "execute_result"
    }
   ],
   "source": [
    "B"
   ]
  },
  {
   "cell_type": "code",
   "execution_count": 13,
   "metadata": {},
   "outputs": [],
   "source": [
    "# &, and\n",
    "# |, or\n",
    "# ~, not"
   ]
  },
  {
   "cell_type": "code",
   "execution_count": 15,
   "metadata": {},
   "outputs": [
    {
     "data": {
      "text/plain": [
       "array([0, 1, 2, 3, 4, 5, 6, 7])"
      ]
     },
     "execution_count": 15,
     "metadata": {},
     "output_type": "execute_result"
    }
   ],
   "source": [
    "a = A[:8]\n",
    "a"
   ]
  },
  {
   "cell_type": "code",
   "execution_count": 16,
   "metadata": {},
   "outputs": [
    {
     "data": {
      "text/plain": [
       "array([0, 1, 4, 5, 6])"
      ]
     },
     "execution_count": 16,
     "metadata": {},
     "output_type": "execute_result"
    }
   ],
   "source": [
    "a[[True, True, False, False, True, True, True, False]]\n",
    "# Assuming array has 8 elements, the above will return\n",
    "# all the elements corresponding to True index"
   ]
  },
  {
   "cell_type": "code",
   "execution_count": 19,
   "metadata": {},
   "outputs": [
    {
     "ename": "ValueError",
     "evalue": "The truth value of an array with more than one element is ambiguous. Use a.any() or a.all()",
     "output_type": "error",
     "traceback": [
      "\u001b[1;31m---------------------------------------------------------------------------\u001b[0m",
      "\u001b[1;31mValueError\u001b[0m                                Traceback (most recent call last)",
      "\u001b[1;32m<ipython-input-19-47a447dc7705>\u001b[0m in \u001b[0;36m<module>\u001b[1;34m\u001b[0m\n\u001b[1;32m----> 1\u001b[1;33m \u001b[0mb\u001b[0m \u001b[1;33m=\u001b[0m \u001b[0ma\u001b[0m\u001b[1;33m[\u001b[0m\u001b[1;33m(\u001b[0m\u001b[0ma\u001b[0m \u001b[1;33m<\u001b[0m \u001b[1;36m6\u001b[0m\u001b[1;33m)\u001b[0m \u001b[1;32mand\u001b[0m \u001b[1;33m(\u001b[0m\u001b[0ma\u001b[0m \u001b[1;33m>\u001b[0m \u001b[1;36m1\u001b[0m\u001b[1;33m)\u001b[0m\u001b[1;33m]\u001b[0m \u001b[1;31m# needs to be \"&\"\u001b[0m\u001b[1;33m\u001b[0m\u001b[1;33m\u001b[0m\u001b[0m\n\u001b[0m\u001b[0;32m      2\u001b[0m \u001b[0mb\u001b[0m\u001b[1;33m\u001b[0m\u001b[1;33m\u001b[0m\u001b[0m\n",
      "\u001b[1;31mValueError\u001b[0m: The truth value of an array with more than one element is ambiguous. Use a.any() or a.all()"
     ]
    }
   ],
   "source": [
    "b = a[(a < 6) and (a > 1)] # needs to be \"&\"\n",
    "b"
   ]
  },
  {
   "cell_type": "markdown",
   "metadata": {},
   "source": [
    "# Numpy (Broadcasting)"
   ]
  },
  {
   "cell_type": "markdown",
   "metadata": {},
   "source": [
    "A = A + 5"
   ]
  },
  {
   "cell_type": "code",
   "execution_count": 4,
   "metadata": {},
   "outputs": [
    {
     "data": {
      "text/plain": [
       "array([[3., 5., 6.],\n",
       "       [9., 9., 7.]])"
      ]
     },
     "execution_count": 4,
     "metadata": {},
     "output_type": "execute_result"
    }
   ],
   "source": [
    "import numpy as np\n",
    "A = np.round(10*np.random.rand(2,3))\n",
    "A"
   ]
  },
  {
   "cell_type": "code",
   "execution_count": 5,
   "metadata": {},
   "outputs": [
    {
     "data": {
      "text/plain": [
       "array([[ 6.,  8.,  9.],\n",
       "       [12., 12., 10.]])"
      ]
     },
     "execution_count": 5,
     "metadata": {},
     "output_type": "execute_result"
    }
   ],
   "source": [
    "A + 3"
   ]
  },
  {
   "cell_type": "code",
   "execution_count": 6,
   "metadata": {},
   "outputs": [
    {
     "data": {
      "text/plain": [
       "array([[ 3.,  5.,  6.],\n",
       "       [10., 10.,  8.]])"
      ]
     },
     "execution_count": 6,
     "metadata": {},
     "output_type": "execute_result"
    }
   ],
   "source": [
    "A + (np.arange(2).reshape(2,1))\n",
    "# A = [3 5 6; 9 9 7]\n",
    "# (np.arange(2).reshape(2,1)) = [0;1]"
   ]
  },
  {
   "cell_type": "markdown",
   "metadata": {},
   "source": [
    "# Numpy (hstack, vstack, sort(axis=0))"
   ]
  },
  {
   "cell_type": "markdown",
   "metadata": {},
   "source": [
    "np.hstack <br>\n",
    "np.vstack <br>\n",
    "np.sort <br>"
   ]
  },
  {
   "cell_type": "code",
   "execution_count": 11,
   "metadata": {},
   "outputs": [
    {
     "data": {
      "text/plain": [
       "array([[3., 9.],\n",
       "       [6., 9.]])"
      ]
     },
     "execution_count": 11,
     "metadata": {},
     "output_type": "execute_result"
    }
   ],
   "source": [
    "B = np.round(10*np.random.rand(2,2))\n",
    "B # 2 by2"
   ]
  },
  {
   "cell_type": "code",
   "execution_count": 12,
   "metadata": {},
   "outputs": [
    {
     "data": {
      "text/plain": [
       "array([[3., 5., 6.],\n",
       "       [9., 9., 7.]])"
      ]
     },
     "execution_count": 12,
     "metadata": {},
     "output_type": "execute_result"
    }
   ],
   "source": [
    "A # 2 by 3"
   ]
  },
  {
   "cell_type": "code",
   "execution_count": 15,
   "metadata": {},
   "outputs": [
    {
     "data": {
      "text/plain": [
       "array([[3., 5., 6., 3., 9.],\n",
       "       [9., 9., 7., 6., 9.]])"
      ]
     },
     "execution_count": 15,
     "metadata": {},
     "output_type": "execute_result"
    }
   ],
   "source": [
    "C = np.hstack((A,B))\n",
    "C"
   ]
  },
  {
   "cell_type": "code",
   "execution_count": 16,
   "metadata": {},
   "outputs": [
    {
     "data": {
      "text/plain": [
       "array([4, 5, 8, 7, 2, 0, 9, 6, 1, 3])"
      ]
     },
     "execution_count": 16,
     "metadata": {},
     "output_type": "execute_result"
    }
   ],
   "source": [
    "A = np.random.permutation(np.arange(10))\n",
    "A"
   ]
  },
  {
   "cell_type": "code",
   "execution_count": 17,
   "metadata": {},
   "outputs": [
    {
     "data": {
      "text/plain": [
       "array([0, 1, 2, 3, 4, 5, 6, 7, 8, 9])"
      ]
     },
     "execution_count": 17,
     "metadata": {},
     "output_type": "execute_result"
    }
   ],
   "source": [
    "A.sort()\n",
    "A"
   ]
  },
  {
   "cell_type": "code",
   "execution_count": 20,
   "metadata": {},
   "outputs": [
    {
     "data": {
      "text/plain": [
       "array([9, 8, 7, 6, 5, 4, 3, 2, 1, 0])"
      ]
     },
     "execution_count": 20,
     "metadata": {},
     "output_type": "execute_result"
    }
   ],
   "source": [
    "A = A[::-1]\n",
    "A"
   ]
  },
  {
   "cell_type": "code",
   "execution_count": 21,
   "metadata": {},
   "outputs": [
    {
     "data": {
      "text/plain": [
       "array([0, 1, 2, 3, 4, 5, 6, 7, 8, 9])"
      ]
     },
     "execution_count": 21,
     "metadata": {},
     "output_type": "execute_result"
    }
   ],
   "source": [
    "np.sort(A)"
   ]
  },
  {
   "cell_type": "code",
   "execution_count": 22,
   "metadata": {},
   "outputs": [],
   "source": [
    "A = np.array([\"abc\",\"how are you\",'u765','13er'])"
   ]
  },
  {
   "cell_type": "code",
   "execution_count": 23,
   "metadata": {},
   "outputs": [
    {
     "data": {
      "text/plain": [
       "array(['13er', 'abc', 'how are you', 'u765'], dtype='<U11')"
      ]
     },
     "execution_count": 23,
     "metadata": {},
     "output_type": "execute_result"
    }
   ],
   "source": [
    "A.sort()\n",
    "A"
   ]
  },
  {
   "cell_type": "markdown",
   "metadata": {},
   "source": [
    "# Numpy (Speed: ufuncs)"
   ]
  },
  {
   "cell_type": "code",
   "execution_count": 25,
   "metadata": {},
   "outputs": [
    {
     "name": "stdout",
     "output_type": "stream",
     "text": [
      "211 ms ± 3.76 ms per loop (mean ± std. dev. of 7 runs, 1 loop each)\n",
      "1.05 ms ± 42.2 µs per loop (mean ± std. dev. of 7 runs, 1000 loops each)\n"
     ]
    }
   ],
   "source": [
    "b = np.random.rand(1000000)\n",
    "%timeit sum(b)\n",
    "%timeit np.sum(b) # b.sum()"
   ]
  },
  {
   "cell_type": "code",
   "execution_count": 26,
   "metadata": {},
   "outputs": [],
   "source": [
    "def mySum(G):\n",
    "    s = 0\n",
    "    for x in G:\n",
    "        s += x\n",
    "    return s"
   ]
  },
  {
   "cell_type": "code",
   "execution_count": 27,
   "metadata": {},
   "outputs": [
    {
     "name": "stdout",
     "output_type": "stream",
     "text": [
      "264 ms ± 2.28 ms per loop (mean ± std. dev. of 7 runs, 1 loop each)\n"
     ]
    }
   ],
   "source": [
    "%timeit mySum(b)"
   ]
  },
  {
   "cell_type": "markdown",
   "metadata": {},
   "source": [
    "# Pandas"
   ]
  },
  {
   "cell_type": "markdown",
   "metadata": {},
   "source": [
    "data = pd.Series([0.25,0.5,0.75,1.0],index=['a','b','c','d']) <br>\n",
    "data.values <br>\n",
    "\n",
    "data.index <br>"
   ]
  },
  {
   "cell_type": "code",
   "execution_count": 28,
   "metadata": {},
   "outputs": [],
   "source": [
    "import pandas as pd"
   ]
  },
  {
   "cell_type": "code",
   "execution_count": 29,
   "metadata": {},
   "outputs": [
    {
     "name": "stdout",
     "output_type": "stream",
     "text": [
      "0.24.2\n"
     ]
    }
   ],
   "source": [
    "print(pd.__version__)"
   ]
  },
  {
   "cell_type": "code",
   "execution_count": 30,
   "metadata": {},
   "outputs": [],
   "source": [
    "A = pd.Series([2,3,4,5],index=['a','b','c','d'])"
   ]
  },
  {
   "cell_type": "code",
   "execution_count": 31,
   "metadata": {},
   "outputs": [
    {
     "data": {
      "text/plain": [
       "array([2, 3, 4, 5], dtype=int64)"
      ]
     },
     "execution_count": 31,
     "metadata": {},
     "output_type": "execute_result"
    }
   ],
   "source": [
    "A.values"
   ]
  },
  {
   "cell_type": "code",
   "execution_count": 32,
   "metadata": {},
   "outputs": [
    {
     "data": {
      "text/plain": [
       "numpy.ndarray"
      ]
     },
     "execution_count": 32,
     "metadata": {},
     "output_type": "execute_result"
    }
   ],
   "source": [
    "type(A.values)"
   ]
  },
  {
   "cell_type": "code",
   "execution_count": 33,
   "metadata": {},
   "outputs": [
    {
     "data": {
      "text/plain": [
       "pandas.core.series.Series"
      ]
     },
     "execution_count": 33,
     "metadata": {},
     "output_type": "execute_result"
    }
   ],
   "source": [
    "type(A)"
   ]
  },
  {
   "cell_type": "code",
   "execution_count": 34,
   "metadata": {},
   "outputs": [
    {
     "data": {
      "text/plain": [
       "Index(['a', 'b', 'c', 'd'], dtype='object')"
      ]
     },
     "execution_count": 34,
     "metadata": {},
     "output_type": "execute_result"
    }
   ],
   "source": [
    "A.index"
   ]
  },
  {
   "cell_type": "code",
   "execution_count": 35,
   "metadata": {},
   "outputs": [
    {
     "data": {
      "text/plain": [
       "2"
      ]
     },
     "execution_count": 35,
     "metadata": {},
     "output_type": "execute_result"
    }
   ],
   "source": [
    "A['a']"
   ]
  },
  {
   "cell_type": "code",
   "execution_count": 36,
   "metadata": {},
   "outputs": [
    {
     "data": {
      "text/plain": [
       "a    2\n",
       "b    3\n",
       "c    4\n",
       "dtype: int64"
      ]
     },
     "execution_count": 36,
     "metadata": {},
     "output_type": "execute_result"
    }
   ],
   "source": [
    "A['a':'c'] # slicing"
   ]
  },
  {
   "cell_type": "markdown",
   "metadata": {},
   "source": [
    "# Pandas (Series)"
   ]
  },
  {
   "cell_type": "code",
   "execution_count": 15,
   "metadata": {},
   "outputs": [],
   "source": [
    "grades_dict = {'A':4, 'B':3.5, 'C':3, 'D':2.5}\n",
    "grades = pd.Series(grades_dict)"
   ]
  },
  {
   "cell_type": "code",
   "execution_count": 16,
   "metadata": {},
   "outputs": [
    {
     "data": {
      "text/plain": [
       "array([4. , 3.5, 3. , 2.5])"
      ]
     },
     "execution_count": 16,
     "metadata": {},
     "output_type": "execute_result"
    }
   ],
   "source": [
    "grades.values"
   ]
  },
  {
   "cell_type": "code",
   "execution_count": 17,
   "metadata": {},
   "outputs": [],
   "source": [
    "marks_dict = {'A':85, 'B':75, 'C': 65, 'D':55}\n",
    "marks = pd.Series(marks_dict)"
   ]
  },
  {
   "cell_type": "code",
   "execution_count": 18,
   "metadata": {},
   "outputs": [
    {
     "data": {
      "text/plain": [
       "A    85\n",
       "B    75\n",
       "C    65\n",
       "D    55\n",
       "dtype: int64"
      ]
     },
     "execution_count": 18,
     "metadata": {},
     "output_type": "execute_result"
    }
   ],
   "source": [
    "marks"
   ]
  },
  {
   "cell_type": "code",
   "execution_count": 19,
   "metadata": {},
   "outputs": [
    {
     "data": {
      "text/plain": [
       "85"
      ]
     },
     "execution_count": 19,
     "metadata": {},
     "output_type": "execute_result"
    }
   ],
   "source": [
    "marks['A']"
   ]
  },
  {
   "cell_type": "code",
   "execution_count": 20,
   "metadata": {},
   "outputs": [
    {
     "data": {
      "text/plain": [
       "A    85\n",
       "B    75\n",
       "dtype: int64"
      ]
     },
     "execution_count": 20,
     "metadata": {},
     "output_type": "execute_result"
    }
   ],
   "source": [
    "marks[0:2]"
   ]
  },
  {
   "cell_type": "markdown",
   "metadata": {},
   "source": [
    "# Pandas (Data Frame)"
   ]
  },
  {
   "cell_type": "code",
   "execution_count": 21,
   "metadata": {},
   "outputs": [
    {
     "data": {
      "text/plain": [
       "A    85\n",
       "B    75\n",
       "C    65\n",
       "D    55\n",
       "dtype: int64"
      ]
     },
     "execution_count": 21,
     "metadata": {},
     "output_type": "execute_result"
    }
   ],
   "source": [
    "marks"
   ]
  },
  {
   "cell_type": "code",
   "execution_count": 22,
   "metadata": {},
   "outputs": [
    {
     "data": {
      "text/plain": [
       "A    4.0\n",
       "B    3.5\n",
       "C    3.0\n",
       "D    2.5\n",
       "dtype: float64"
      ]
     },
     "execution_count": 22,
     "metadata": {},
     "output_type": "execute_result"
    }
   ],
   "source": [
    "grades"
   ]
  },
  {
   "cell_type": "code",
   "execution_count": 23,
   "metadata": {},
   "outputs": [],
   "source": [
    "D = pd.DataFrame({'Marks':marks, 'Grades':grades})"
   ]
  },
  {
   "cell_type": "code",
   "execution_count": 47,
   "metadata": {},
   "outputs": [
    {
     "data": {
      "text/html": [
       "<div>\n",
       "<style scoped>\n",
       "    .dataframe tbody tr th:only-of-type {\n",
       "        vertical-align: middle;\n",
       "    }\n",
       "\n",
       "    .dataframe tbody tr th {\n",
       "        vertical-align: top;\n",
       "    }\n",
       "\n",
       "    .dataframe thead th {\n",
       "        text-align: right;\n",
       "    }\n",
       "</style>\n",
       "<table border=\"1\" class=\"dataframe\">\n",
       "  <thead>\n",
       "    <tr style=\"text-align: right;\">\n",
       "      <th></th>\n",
       "      <th>Marks</th>\n",
       "      <th>Grades</th>\n",
       "    </tr>\n",
       "  </thead>\n",
       "  <tbody>\n",
       "    <tr>\n",
       "      <th>A</th>\n",
       "      <td>85</td>\n",
       "      <td>4.0</td>\n",
       "    </tr>\n",
       "    <tr>\n",
       "      <th>B</th>\n",
       "      <td>75</td>\n",
       "      <td>3.5</td>\n",
       "    </tr>\n",
       "    <tr>\n",
       "      <th>C</th>\n",
       "      <td>65</td>\n",
       "      <td>3.0</td>\n",
       "    </tr>\n",
       "    <tr>\n",
       "      <th>D</th>\n",
       "      <td>55</td>\n",
       "      <td>2.5</td>\n",
       "    </tr>\n",
       "  </tbody>\n",
       "</table>\n",
       "</div>"
      ],
      "text/plain": [
       "   Marks  Grades\n",
       "A     85     4.0\n",
       "B     75     3.5\n",
       "C     65     3.0\n",
       "D     55     2.5"
      ]
     },
     "execution_count": 47,
     "metadata": {},
     "output_type": "execute_result"
    }
   ],
   "source": [
    "D"
   ]
  },
  {
   "cell_type": "code",
   "execution_count": 48,
   "metadata": {},
   "outputs": [
    {
     "data": {
      "text/html": [
       "<div>\n",
       "<style scoped>\n",
       "    .dataframe tbody tr th:only-of-type {\n",
       "        vertical-align: middle;\n",
       "    }\n",
       "\n",
       "    .dataframe tbody tr th {\n",
       "        vertical-align: top;\n",
       "    }\n",
       "\n",
       "    .dataframe thead th {\n",
       "        text-align: right;\n",
       "    }\n",
       "</style>\n",
       "<table border=\"1\" class=\"dataframe\">\n",
       "  <thead>\n",
       "    <tr style=\"text-align: right;\">\n",
       "      <th></th>\n",
       "      <th>A</th>\n",
       "      <th>B</th>\n",
       "      <th>C</th>\n",
       "      <th>D</th>\n",
       "    </tr>\n",
       "  </thead>\n",
       "  <tbody>\n",
       "    <tr>\n",
       "      <th>Marks</th>\n",
       "      <td>85.0</td>\n",
       "      <td>75.0</td>\n",
       "      <td>65.0</td>\n",
       "      <td>55.0</td>\n",
       "    </tr>\n",
       "    <tr>\n",
       "      <th>Grades</th>\n",
       "      <td>4.0</td>\n",
       "      <td>3.5</td>\n",
       "      <td>3.0</td>\n",
       "      <td>2.5</td>\n",
       "    </tr>\n",
       "  </tbody>\n",
       "</table>\n",
       "</div>"
      ],
      "text/plain": [
       "           A     B     C     D\n",
       "Marks   85.0  75.0  65.0  55.0\n",
       "Grades   4.0   3.5   3.0   2.5"
      ]
     },
     "execution_count": 48,
     "metadata": {},
     "output_type": "execute_result"
    }
   ],
   "source": [
    "D.T"
   ]
  },
  {
   "cell_type": "code",
   "execution_count": 49,
   "metadata": {},
   "outputs": [
    {
     "data": {
      "text/html": [
       "<div>\n",
       "<style scoped>\n",
       "    .dataframe tbody tr th:only-of-type {\n",
       "        vertical-align: middle;\n",
       "    }\n",
       "\n",
       "    .dataframe tbody tr th {\n",
       "        vertical-align: top;\n",
       "    }\n",
       "\n",
       "    .dataframe thead th {\n",
       "        text-align: right;\n",
       "    }\n",
       "</style>\n",
       "<table border=\"1\" class=\"dataframe\">\n",
       "  <thead>\n",
       "    <tr style=\"text-align: right;\">\n",
       "      <th></th>\n",
       "      <th>Marks</th>\n",
       "      <th>Grades</th>\n",
       "    </tr>\n",
       "  </thead>\n",
       "  <tbody>\n",
       "    <tr>\n",
       "      <th>A</th>\n",
       "      <td>85</td>\n",
       "      <td>4.0</td>\n",
       "    </tr>\n",
       "    <tr>\n",
       "      <th>B</th>\n",
       "      <td>75</td>\n",
       "      <td>3.5</td>\n",
       "    </tr>\n",
       "    <tr>\n",
       "      <th>C</th>\n",
       "      <td>65</td>\n",
       "      <td>3.0</td>\n",
       "    </tr>\n",
       "    <tr>\n",
       "      <th>D</th>\n",
       "      <td>55</td>\n",
       "      <td>2.5</td>\n",
       "    </tr>\n",
       "  </tbody>\n",
       "</table>\n",
       "</div>"
      ],
      "text/plain": [
       "   Marks  Grades\n",
       "A     85     4.0\n",
       "B     75     3.5\n",
       "C     65     3.0\n",
       "D     55     2.5"
      ]
     },
     "execution_count": 49,
     "metadata": {},
     "output_type": "execute_result"
    }
   ],
   "source": [
    "D"
   ]
  },
  {
   "cell_type": "code",
   "execution_count": 50,
   "metadata": {},
   "outputs": [
    {
     "data": {
      "text/plain": [
       "array([[85. ,  4. ],\n",
       "       [75. ,  3.5],\n",
       "       [65. ,  3. ],\n",
       "       [55. ,  2.5]])"
      ]
     },
     "execution_count": 50,
     "metadata": {},
     "output_type": "execute_result"
    }
   ],
   "source": [
    "D.values"
   ]
  },
  {
   "cell_type": "code",
   "execution_count": 51,
   "metadata": {},
   "outputs": [
    {
     "data": {
      "text/plain": [
       "65.0"
      ]
     },
     "execution_count": 51,
     "metadata": {},
     "output_type": "execute_result"
    }
   ],
   "source": [
    "D.values[2,0]"
   ]
  },
  {
   "cell_type": "code",
   "execution_count": 52,
   "metadata": {},
   "outputs": [
    {
     "data": {
      "text/plain": [
       "Index(['Marks', 'Grades'], dtype='object')"
      ]
     },
     "execution_count": 52,
     "metadata": {},
     "output_type": "execute_result"
    }
   ],
   "source": [
    "D.columns"
   ]
  },
  {
   "cell_type": "code",
   "execution_count": 53,
   "metadata": {},
   "outputs": [
    {
     "data": {
      "text/html": [
       "<div>\n",
       "<style scoped>\n",
       "    .dataframe tbody tr th:only-of-type {\n",
       "        vertical-align: middle;\n",
       "    }\n",
       "\n",
       "    .dataframe tbody tr th {\n",
       "        vertical-align: top;\n",
       "    }\n",
       "\n",
       "    .dataframe thead th {\n",
       "        text-align: right;\n",
       "    }\n",
       "</style>\n",
       "<table border=\"1\" class=\"dataframe\">\n",
       "  <thead>\n",
       "    <tr style=\"text-align: right;\">\n",
       "      <th></th>\n",
       "      <th>Marks</th>\n",
       "      <th>Grades</th>\n",
       "      <th>ScaledMarks</th>\n",
       "    </tr>\n",
       "  </thead>\n",
       "  <tbody>\n",
       "    <tr>\n",
       "      <th>A</th>\n",
       "      <td>85</td>\n",
       "      <td>4.0</td>\n",
       "      <td>94.444444</td>\n",
       "    </tr>\n",
       "    <tr>\n",
       "      <th>B</th>\n",
       "      <td>75</td>\n",
       "      <td>3.5</td>\n",
       "      <td>83.333333</td>\n",
       "    </tr>\n",
       "    <tr>\n",
       "      <th>C</th>\n",
       "      <td>65</td>\n",
       "      <td>3.0</td>\n",
       "      <td>72.222222</td>\n",
       "    </tr>\n",
       "    <tr>\n",
       "      <th>D</th>\n",
       "      <td>55</td>\n",
       "      <td>2.5</td>\n",
       "      <td>61.111111</td>\n",
       "    </tr>\n",
       "  </tbody>\n",
       "</table>\n",
       "</div>"
      ],
      "text/plain": [
       "   Marks  Grades  ScaledMarks\n",
       "A     85     4.0    94.444444\n",
       "B     75     3.5    83.333333\n",
       "C     65     3.0    72.222222\n",
       "D     55     2.5    61.111111"
      ]
     },
     "execution_count": 53,
     "metadata": {},
     "output_type": "execute_result"
    }
   ],
   "source": [
    "D['ScaledMarks'] = 100*(D['Marks']/90)\n",
    "D"
   ]
  },
  {
   "cell_type": "code",
   "execution_count": 54,
   "metadata": {},
   "outputs": [
    {
     "data": {
      "text/html": [
       "<div>\n",
       "<style scoped>\n",
       "    .dataframe tbody tr th:only-of-type {\n",
       "        vertical-align: middle;\n",
       "    }\n",
       "\n",
       "    .dataframe tbody tr th {\n",
       "        vertical-align: top;\n",
       "    }\n",
       "\n",
       "    .dataframe thead th {\n",
       "        text-align: right;\n",
       "    }\n",
       "</style>\n",
       "<table border=\"1\" class=\"dataframe\">\n",
       "  <thead>\n",
       "    <tr style=\"text-align: right;\">\n",
       "      <th></th>\n",
       "      <th>Marks</th>\n",
       "      <th>Grades</th>\n",
       "    </tr>\n",
       "  </thead>\n",
       "  <tbody>\n",
       "    <tr>\n",
       "      <th>A</th>\n",
       "      <td>85</td>\n",
       "      <td>4.0</td>\n",
       "    </tr>\n",
       "    <tr>\n",
       "      <th>B</th>\n",
       "      <td>75</td>\n",
       "      <td>3.5</td>\n",
       "    </tr>\n",
       "    <tr>\n",
       "      <th>C</th>\n",
       "      <td>65</td>\n",
       "      <td>3.0</td>\n",
       "    </tr>\n",
       "    <tr>\n",
       "      <th>D</th>\n",
       "      <td>55</td>\n",
       "      <td>2.5</td>\n",
       "    </tr>\n",
       "  </tbody>\n",
       "</table>\n",
       "</div>"
      ],
      "text/plain": [
       "   Marks  Grades\n",
       "A     85     4.0\n",
       "B     75     3.5\n",
       "C     65     3.0\n",
       "D     55     2.5"
      ]
     },
     "execution_count": 54,
     "metadata": {},
     "output_type": "execute_result"
    }
   ],
   "source": [
    "del D['ScaledMarks']\n",
    "D"
   ]
  },
  {
   "cell_type": "code",
   "execution_count": 55,
   "metadata": {},
   "outputs": [
    {
     "data": {
      "text/html": [
       "<div>\n",
       "<style scoped>\n",
       "    .dataframe tbody tr th:only-of-type {\n",
       "        vertical-align: middle;\n",
       "    }\n",
       "\n",
       "    .dataframe tbody tr th {\n",
       "        vertical-align: top;\n",
       "    }\n",
       "\n",
       "    .dataframe thead th {\n",
       "        text-align: right;\n",
       "    }\n",
       "</style>\n",
       "<table border=\"1\" class=\"dataframe\">\n",
       "  <thead>\n",
       "    <tr style=\"text-align: right;\">\n",
       "      <th></th>\n",
       "      <th>Marks</th>\n",
       "      <th>Grades</th>\n",
       "    </tr>\n",
       "  </thead>\n",
       "  <tbody>\n",
       "    <tr>\n",
       "      <th>A</th>\n",
       "      <td>85</td>\n",
       "      <td>4.0</td>\n",
       "    </tr>\n",
       "    <tr>\n",
       "      <th>B</th>\n",
       "      <td>75</td>\n",
       "      <td>3.5</td>\n",
       "    </tr>\n",
       "  </tbody>\n",
       "</table>\n",
       "</div>"
      ],
      "text/plain": [
       "   Marks  Grades\n",
       "A     85     4.0\n",
       "B     75     3.5"
      ]
     },
     "execution_count": 55,
     "metadata": {},
     "output_type": "execute_result"
    }
   ],
   "source": [
    "G = D[D['Marks'] > 70]\n",
    "G"
   ]
  },
  {
   "cell_type": "markdown",
   "metadata": {},
   "source": [
    "# Pandas (NaN)"
   ]
  },
  {
   "cell_type": "markdown",
   "metadata": {},
   "source": [
    "pd.DataFrame([{'a':1, 'b':2}, {'b':3,'c':4}])"
   ]
  },
  {
   "cell_type": "code",
   "execution_count": 3,
   "metadata": {},
   "outputs": [
    {
     "data": {
      "text/html": [
       "<div>\n",
       "<style scoped>\n",
       "    .dataframe tbody tr th:only-of-type {\n",
       "        vertical-align: middle;\n",
       "    }\n",
       "\n",
       "    .dataframe tbody tr th {\n",
       "        vertical-align: top;\n",
       "    }\n",
       "\n",
       "    .dataframe thead th {\n",
       "        text-align: right;\n",
       "    }\n",
       "</style>\n",
       "<table border=\"1\" class=\"dataframe\">\n",
       "  <thead>\n",
       "    <tr style=\"text-align: right;\">\n",
       "      <th></th>\n",
       "      <th>a</th>\n",
       "      <th>b</th>\n",
       "      <th>c</th>\n",
       "    </tr>\n",
       "  </thead>\n",
       "  <tbody>\n",
       "    <tr>\n",
       "      <th>0</th>\n",
       "      <td>1.0</td>\n",
       "      <td>4</td>\n",
       "      <td>NaN</td>\n",
       "    </tr>\n",
       "    <tr>\n",
       "      <th>1</th>\n",
       "      <td>NaN</td>\n",
       "      <td>-3</td>\n",
       "      <td>9.0</td>\n",
       "    </tr>\n",
       "  </tbody>\n",
       "</table>\n",
       "</div>"
      ],
      "text/plain": [
       "     a  b    c\n",
       "0  1.0  4  NaN\n",
       "1  NaN -3  9.0"
      ]
     },
     "execution_count": 3,
     "metadata": {},
     "output_type": "execute_result"
    }
   ],
   "source": [
    "import pandas as pd\n",
    "A = pd.DataFrame([{'a':1, 'b':4}, {'b':-3,'c':9}])\n",
    "A"
   ]
  },
  {
   "cell_type": "code",
   "execution_count": 6,
   "metadata": {},
   "outputs": [
    {
     "data": {
      "text/html": [
       "<div>\n",
       "<style scoped>\n",
       "    .dataframe tbody tr th:only-of-type {\n",
       "        vertical-align: middle;\n",
       "    }\n",
       "\n",
       "    .dataframe tbody tr th {\n",
       "        vertical-align: top;\n",
       "    }\n",
       "\n",
       "    .dataframe thead th {\n",
       "        text-align: right;\n",
       "    }\n",
       "</style>\n",
       "<table border=\"1\" class=\"dataframe\">\n",
       "  <thead>\n",
       "    <tr style=\"text-align: right;\">\n",
       "      <th></th>\n",
       "      <th>a</th>\n",
       "      <th>b</th>\n",
       "      <th>c</th>\n",
       "    </tr>\n",
       "  </thead>\n",
       "  <tbody>\n",
       "    <tr>\n",
       "      <th>0</th>\n",
       "      <td>1.0</td>\n",
       "      <td>4</td>\n",
       "      <td>0.0</td>\n",
       "    </tr>\n",
       "    <tr>\n",
       "      <th>1</th>\n",
       "      <td>0.0</td>\n",
       "      <td>-3</td>\n",
       "      <td>9.0</td>\n",
       "    </tr>\n",
       "  </tbody>\n",
       "</table>\n",
       "</div>"
      ],
      "text/plain": [
       "     a  b    c\n",
       "0  1.0  4  0.0\n",
       "1  0.0 -3  9.0"
      ]
     },
     "execution_count": 6,
     "metadata": {},
     "output_type": "execute_result"
    }
   ],
   "source": [
    "A.fillna(0)"
   ]
  },
  {
   "cell_type": "code",
   "execution_count": 7,
   "metadata": {},
   "outputs": [],
   "source": [
    "A.dropna?"
   ]
  },
  {
   "cell_type": "markdown",
   "metadata": {},
   "source": [
    "# Pandas (Indexing)"
   ]
  },
  {
   "cell_type": "markdown",
   "metadata": {},
   "source": [
    "data = pd.Series(['a','b','c'], index=[1,3,5]) <br>\n",
    "\n",
    "data[1] # explicit index, use *loc* instead <br>\n",
    "data[1:3] # implicit index, use *iloc* instead <br>\n",
    "\n",
    "rs.iloc[2,3] <br>\n",
    "\n",
    "https://www.ibm.com/support/knowledgecenter/SSHGWL_1.2.3/analyze-data/markd-jupyter.html"
   ]
  },
  {
   "cell_type": "code",
   "execution_count": 8,
   "metadata": {},
   "outputs": [],
   "source": [
    "A = pd.Series(['a','b','c'], index=[1,3,5])"
   ]
  },
  {
   "cell_type": "code",
   "execution_count": 9,
   "metadata": {},
   "outputs": [
    {
     "data": {
      "text/plain": [
       "'a'"
      ]
     },
     "execution_count": 9,
     "metadata": {},
     "output_type": "execute_result"
    }
   ],
   "source": [
    "A[1]"
   ]
  },
  {
   "cell_type": "code",
   "execution_count": 10,
   "metadata": {},
   "outputs": [
    {
     "data": {
      "text/plain": [
       "3    b\n",
       "5    c\n",
       "dtype: object"
      ]
     },
     "execution_count": 10,
     "metadata": {},
     "output_type": "execute_result"
    }
   ],
   "source": [
    "A[1:3]"
   ]
  },
  {
   "cell_type": "code",
   "execution_count": 11,
   "metadata": {},
   "outputs": [
    {
     "data": {
      "text/plain": [
       "1    a\n",
       "3    b\n",
       "dtype: object"
      ]
     },
     "execution_count": 11,
     "metadata": {},
     "output_type": "execute_result"
    }
   ],
   "source": [
    "A.loc[1:3] # explicit"
   ]
  },
  {
   "cell_type": "code",
   "execution_count": 12,
   "metadata": {},
   "outputs": [
    {
     "data": {
      "text/plain": [
       "3    b\n",
       "5    c\n",
       "dtype: object"
      ]
     },
     "execution_count": 12,
     "metadata": {},
     "output_type": "execute_result"
    }
   ],
   "source": [
    "A.iloc[1:3] # implicit"
   ]
  },
  {
   "cell_type": "code",
   "execution_count": 24,
   "metadata": {},
   "outputs": [
    {
     "data": {
      "text/html": [
       "<div>\n",
       "<style scoped>\n",
       "    .dataframe tbody tr th:only-of-type {\n",
       "        vertical-align: middle;\n",
       "    }\n",
       "\n",
       "    .dataframe tbody tr th {\n",
       "        vertical-align: top;\n",
       "    }\n",
       "\n",
       "    .dataframe thead th {\n",
       "        text-align: right;\n",
       "    }\n",
       "</style>\n",
       "<table border=\"1\" class=\"dataframe\">\n",
       "  <thead>\n",
       "    <tr style=\"text-align: right;\">\n",
       "      <th></th>\n",
       "      <th>Marks</th>\n",
       "      <th>Grades</th>\n",
       "    </tr>\n",
       "  </thead>\n",
       "  <tbody>\n",
       "    <tr>\n",
       "      <th>A</th>\n",
       "      <td>85</td>\n",
       "      <td>4.0</td>\n",
       "    </tr>\n",
       "    <tr>\n",
       "      <th>B</th>\n",
       "      <td>75</td>\n",
       "      <td>3.5</td>\n",
       "    </tr>\n",
       "    <tr>\n",
       "      <th>C</th>\n",
       "      <td>65</td>\n",
       "      <td>3.0</td>\n",
       "    </tr>\n",
       "    <tr>\n",
       "      <th>D</th>\n",
       "      <td>55</td>\n",
       "      <td>2.5</td>\n",
       "    </tr>\n",
       "  </tbody>\n",
       "</table>\n",
       "</div>"
      ],
      "text/plain": [
       "   Marks  Grades\n",
       "A     85     4.0\n",
       "B     75     3.5\n",
       "C     65     3.0\n",
       "D     55     2.5"
      ]
     },
     "execution_count": 24,
     "metadata": {},
     "output_type": "execute_result"
    }
   ],
   "source": [
    "D "
   ]
  },
  {
   "cell_type": "code",
   "execution_count": 25,
   "metadata": {},
   "outputs": [
    {
     "data": {
      "text/plain": [
       "Marks     65.0\n",
       "Grades     3.0\n",
       "Name: C, dtype: float64"
      ]
     },
     "execution_count": 25,
     "metadata": {},
     "output_type": "execute_result"
    }
   ],
   "source": [
    "D.iloc[2,:]"
   ]
  },
  {
   "cell_type": "code",
   "execution_count": 26,
   "metadata": {},
   "outputs": [
    {
     "data": {
      "text/html": [
       "<div>\n",
       "<style scoped>\n",
       "    .dataframe tbody tr th:only-of-type {\n",
       "        vertical-align: middle;\n",
       "    }\n",
       "\n",
       "    .dataframe tbody tr th {\n",
       "        vertical-align: top;\n",
       "    }\n",
       "\n",
       "    .dataframe thead th {\n",
       "        text-align: right;\n",
       "    }\n",
       "</style>\n",
       "<table border=\"1\" class=\"dataframe\">\n",
       "  <thead>\n",
       "    <tr style=\"text-align: right;\">\n",
       "      <th></th>\n",
       "      <th>Marks</th>\n",
       "      <th>Grades</th>\n",
       "    </tr>\n",
       "  </thead>\n",
       "  <tbody>\n",
       "    <tr>\n",
       "      <th>D</th>\n",
       "      <td>55</td>\n",
       "      <td>2.5</td>\n",
       "    </tr>\n",
       "    <tr>\n",
       "      <th>C</th>\n",
       "      <td>65</td>\n",
       "      <td>3.0</td>\n",
       "    </tr>\n",
       "    <tr>\n",
       "      <th>B</th>\n",
       "      <td>75</td>\n",
       "      <td>3.5</td>\n",
       "    </tr>\n",
       "    <tr>\n",
       "      <th>A</th>\n",
       "      <td>85</td>\n",
       "      <td>4.0</td>\n",
       "    </tr>\n",
       "  </tbody>\n",
       "</table>\n",
       "</div>"
      ],
      "text/plain": [
       "   Marks  Grades\n",
       "D     55     2.5\n",
       "C     65     3.0\n",
       "B     75     3.5\n",
       "A     85     4.0"
      ]
     },
     "execution_count": 26,
     "metadata": {},
     "output_type": "execute_result"
    }
   ],
   "source": [
    "D.iloc[::-1,:]"
   ]
  },
  {
   "cell_type": "markdown",
   "metadata": {},
   "source": [
    "# Pandas (csv files)"
   ]
  },
  {
   "cell_type": "code",
   "execution_count": null,
   "metadata": {},
   "outputs": [],
   "source": [
    "# Do not run this \n",
    "import pandas as pd\n",
    "import numpy as np\n",
    "from sklearn.impute import SimpleImputer\n",
    "df = pd.read_csv('E:/covid/covid_19_data.csv')\n",
    "df.head() # First 5 records\n",
    "df.head(10) # First 10 records\n",
    "df.drop(['SNo','Last Update'], axis=1, inplace=True) # Hide 'SNo' & 'Last Update' columns\n",
    "df.head()\n",
    "df.rename(columns={'ObservationDate':'Date','Province/State':'Province','Country/Region': 'Country'}, inplace=True)\n",
    "# Change heading names for columns\n",
    "df.head()\n",
    "df['Date'] = pd.to_datetime(df['Date'])\n",
    "df.head()\n",
    "df.describe()\n",
    "df.info()\n",
    "df = df.fillna('NA')\n",
    "df.info()\n",
    "# imputer = SimpleImputer(strategy = 'constant')\n",
    "# df2 = pd.DataFrame(imputer.fit_transform(df), columns=df.columns)\n",
    "df2 = df.groupby('Country')[['Country','Confirmed','Deaths','Recovered']].sum().reset_index()\n",
    "df2\n",
    "df2 = df.groupby(['Country','Date'])[['Country','Confirmed','Deaths','Recovered']].sum().reset_index()\n",
    "df2\n",
    "df3 = df2[df2['Confirmed'] > 100]\n",
    "df3"
   ]
  },
  {
   "cell_type": "markdown",
   "metadata": {},
   "source": [
    "# Matplotlib"
   ]
  },
  {
   "cell_type": "markdown",
   "metadata": {},
   "source": [
    "import matplotlib.pyplot as plt\n",
    "\n",
    "x = np.linspace(0,10,1000) <br>\n",
    "plt.plot(x, np.sin(x))"
   ]
  },
  {
   "cell_type": "code",
   "execution_count": 1,
   "metadata": {},
   "outputs": [],
   "source": [
    "import numpy as np\n",
    "import matplotlib.pyplot as plt"
   ]
  },
  {
   "cell_type": "code",
   "execution_count": 2,
   "metadata": {},
   "outputs": [
    {
     "data": {
      "text/plain": [
       "[<matplotlib.lines.Line2D at 0xc15add8>]"
      ]
     },
     "execution_count": 2,
     "metadata": {},
     "output_type": "execute_result"
    },
    {
     "data": {
      "image/png": "[encoded data removed]",
      "text/plain": [
       "<Figure size 432x288 with 1 Axes>"
      ]
     },
     "metadata": {
      "needs_background": "light"
     },
     "output_type": "display_data"
    }
   ],
   "source": [
    "x = np.linspace(0,10,1000)\n",
    "y = np.sin(x)\n",
    "plt.plot(x,y)"
   ]
  },
  {
   "cell_type": "code",
   "execution_count": 3,
   "metadata": {},
   "outputs": [
    {
     "data": {
      "text/plain": [
       "<matplotlib.collections.PathCollection at 0xc20e550>"
      ]
     },
     "execution_count": 3,
     "metadata": {},
     "output_type": "execute_result"
    },
    {
     "data": {
      "image/png": "[encoded data removed]",
      "text/plain": [
       "<Figure size 432x288 with 1 Axes>"
      ]
     },
     "metadata": {
      "needs_background": "light"
     },
     "output_type": "display_data"
    }
   ],
   "source": [
    "plt.scatter(x,y)"
   ]
  },
  {
   "cell_type": "code",
   "execution_count": 4,
   "metadata": {},
   "outputs": [
    {
     "data": {
      "text/plain": [
       "<matplotlib.collections.PathCollection at 0xc280a90>"
      ]
     },
     "execution_count": 4,
     "metadata": {},
     "output_type": "execute_result"
    },
    {
     "data": {
      "image/png": "[encoded data removed]",
      "text/plain": [
       "<Figure size 432x288 with 1 Axes>"
      ]
     },
     "metadata": {
      "needs_background": "light"
     },
     "output_type": "display_data"
    }
   ],
   "source": [
    "plt.scatter(x[:30],y[:30])"
   ]
  },
  {
   "cell_type": "code",
   "execution_count": 5,
   "metadata": {},
   "outputs": [
    {
     "data": {
      "text/plain": [
       "<matplotlib.collections.PathCollection at 0xc2ed780>"
      ]
     },
     "execution_count": 5,
     "metadata": {},
     "output_type": "execute_result"
    },
    {
     "data": {
      "image/png": "[encoded data removed]",
      "text/plain": [
       "<Figure size 432x288 with 1 Axes>"
      ]
     },
     "metadata": {
      "needs_background": "light"
     },
     "output_type": "display_data"
    }
   ],
   "source": [
    "plt.scatter(x[::10],y[::10])"
   ]
  },
  {
   "cell_type": "code",
   "execution_count": 6,
   "metadata": {},
   "outputs": [
    {
     "data": {
      "text/plain": [
       "<matplotlib.collections.PathCollection at 0xc351898>"
      ]
     },
     "execution_count": 6,
     "metadata": {},
     "output_type": "execute_result"
    },
    {
     "data": {
      "image/png": "[encoded data removed]",
      "text/plain": [
       "<Figure size 432x288 with 1 Axes>"
      ]
     },
     "metadata": {
      "needs_background": "light"
     },
     "output_type": "display_data"
    }
   ],
   "source": [
    "plt.scatter(x[::10],y[::10],color='red')"
   ]
  },
  {
   "cell_type": "markdown",
   "metadata": {},
   "source": [
    "plt.plot(x, np.sin(x-0), color='blue') <br>\n",
    "plt.plot(x, np.sin(x-1), color='g') <br>\n",
    "plt.plot(x, np.sin(x-2), color='r')"
   ]
  },
  {
   "cell_type": "code",
   "execution_count": 7,
   "metadata": {},
   "outputs": [
    {
     "data": {
      "text/plain": [
       "[<matplotlib.lines.Line2D at 0xc398780>]"
      ]
     },
     "execution_count": 7,
     "metadata": {},
     "output_type": "execute_result"
    },
    {
     "data": {
      "image/png": "[encoded data removed]",
      "text/plain": [
       "<Figure size 432x288 with 1 Axes>"
      ]
     },
     "metadata": {
      "needs_background": "light"
     },
     "output_type": "display_data"
    }
   ],
   "source": [
    "plt.plot(x, y, color='b')\n",
    "plt.plot(x, np.cos(x), color='g')"
   ]
  },
  {
   "cell_type": "markdown",
   "metadata": {},
   "source": [
    "plt.plot(x, x+0, '-g') # solid green <br>\n",
    "plt.plot(x, x+1, '--c') # dashed cyan <br>\n",
    "plt.plot(x, x+2, '-.k') # dashdot black <br>\n",
    "plt.plot(x, x+3, ':r') # dotted red "
   ]
  },
  {
   "cell_type": "code",
   "execution_count": null,
   "metadata": {},
   "outputs": [],
   "source": [
    "# Do not run this\n",
    "import pandas as pd\n",
    "import numpy as np\n",
    "from sklearn.impute import SimpleImputer\n",
    "df = pd.read_csv('E:/covid/covid_19_data.csv')\n",
    "df.drop(['SNo','Last Update'], axis=1, inplace=True) # Hide 'SNo' & 'Last Update' columns\n",
    "df.rename(columns={'ObservationDate':'Date','Province/State':'Province','Country/Region': 'Country'}, inplace=True)\n",
    "df['Date'] = pd.to_datetime(df['Date'])\n",
    "imputer = SimpleImputer(strategy = 'constant')\n",
    "df2 = pd.DataFrame(imputer.fit_transform(df), columns=df.columns)\n",
    "df3 = df2.groupby(['Country','Date'])[['Country','Confirmed','Deaths','Recovered']].sum().reset_index()\n",
    "df3\n",
    "contries = df3['Country'].unique()\n",
    "len(contries) # 171\n",
    "\n",
    "for idx in range(0, len(contries)):\n",
    "    C = df3[df3['Country'] == contries[idx]].reset_index()\n",
    "    plt.scatter(np.arange(0, len(C)), C['Confirmed'], color='blue', label='Confirmed')\n",
    "    plt.scatter(np.arange(0, len(C)), C['Recovered'], color='green', label='Recovered')\n",
    "    plt.scatter(np.arange(0, len(C)), C['Deaths'], color='red', label='Deaths')\n",
    "    plt.title(countries[idx])\n",
    "    plt.xlabel('Days since the first suspect')\n",
    "    plt.ylabel('Number of cases')\n",
    "    plt.legend()\n",
    "    plt.show()\n",
    "    \n",
    "df4 = df3.groupby(['Date'])[['Date','Confirmed','Deaths','Recovered']].sum().reset_index()\n",
    "\n",
    "C = df4\n",
    "plt.scatter(np.arange(0, len(C)), C['Confirmed'], color='blue', label='Confirmed')\n",
    "plt.scatter(np.arange(0, len(C)), C['Recovered'], color='green', label='Recovered')\n",
    "plt.scatter(np.arange(0, len(C)), C['Deaths'], color='red', label='Deaths')\n",
    "plt.title('World')\n",
    "plt.xlabel('Days since the first suspect')\n",
    "plt.ylabel('Number of cases')\n",
    "plt.legend()\n",
    "plt.show()"
   ]
  }
 ],
 "metadata": {
  "kernelspec": {
   "display_name": "Python 3",
   "language": "python",
   "name": "python3"
  },
  "language_info": {
   "codemirror_mode": {
    "name": "ipython",
    "version": 3
   },
   "file_extension": ".py",
   "mimetype": "text/x-python",
   "name": "python",
   "nbconvert_exporter": "python",
   "pygments_lexer": "ipython3",
   "version": "3.7.3"
  }
 },
 "nbformat": 4,
 "nbformat_minor": 2
}
